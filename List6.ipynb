{
 "cells": [
  {
   "cell_type": "markdown",
   "id": "f8caa03b-09aa-413d-93ce-f69d5a35e984",
   "metadata": {},
   "source": [
    "<h1><center>Metody numeryczne i optymalizacja</center></h1>\n",
    "\n",
    "<h3><center>Lista 6</center></h3>\n",
    "<h3><center>PROGRAMOWANIE LINIOWE</center></h3>\n",
    "\n",
    "\n",
    "\n",
    "<h6><center>Antoni Bezdzietny 249327</center></h6>\n",
    "\n",
    "<h6><center>Paweł Krysa 249171</center></h6>\n",
    "\n",
    "<h6><center>20.05.2022</center></h6>"
   ]
  },
  {
   "cell_type": "markdown",
   "id": "79a5b16b-7f26-418d-ab2f-1fc669e1ce3a",
   "metadata": {},
   "source": [
    "## Wstęp merytoryczny\n",
    "**Programowanie liniowe** polega na optymalizacji wartości funkcji z zachowaniem układu nierówności liniowych. Jeśli liczba $b$ jest liczbą rzeczywistą, a $f$ - funkcją liniową, to równanie\n",
    "$$f(x_1,x_2,\\dots,x_n)=b$$\n",
    "jest **równością liniową**, a nierówności\n",
    "$$f(x_1,x_2,\\dots,x_n) \\leq b$$\n",
    "oraz\n",
    "$$f(x_1,x_2,\\dots,x_n) \\geq b$$\n",
    "to **nierówności liniowe**.\n",
    "Problem programowania liniowego to problem minimalizacji albo maksymalizacji funkcji liniowej z zachowaniem pewnego skończonego zbioru ograniczeń liniowych.\n",
    "\n",
    "---\n",
    "### Algorytm Simplex\n",
    "Danymi wejściowymi algorytmu jest układ liniowy, na wyjściu uzyskiwane jes rozwiązanie optymalne. Algorytm rozpoczyna od pewnego wierzchiłka i wykonuje ciąg iteracji. W każdej iteracji następuje przejście wzdłuż krawędzi, do sąsiedniego wierzchołka o nie mniejszej wartości funkcji celu. Algorytm kończy zadanie w momencie osiagnienięcia lokalnego minimum. \n"
   ]
  },
  {
   "cell_type": "code",
   "execution_count": 1,
   "id": "801d4127",
   "metadata": {},
   "outputs": [],
   "source": [
    "import numpy as np\n",
    "import scipy.optimize as sp\n",
    "import matplotlib.pyplot as plt"
   ]
  },
  {
   "cell_type": "code",
   "execution_count": 2,
   "id": "837a6ca4-5394-40e2-ae02-fb603946eebd",
   "metadata": {},
   "outputs": [],
   "source": [
    "class SimplexV2:\n",
    "    def SimplexV2(A,b,c):\n",
    "        tableau = SimplexV2.__createTableau(A,b)\n",
    "        for i in range(A.shape[1]):\n",
    "            pivotRow = SimplexV2.__findPivotRow(tableau, i) \n",
    "            SimplexV2.__switchRows(tableau,i,pivotRow)\n",
    "            SimplexV2.__gaussianRowReduction(tableau,i)\n",
    "        \n",
    "        return tableau[:A.shape[1],-1]\n",
    "            \n",
    "        \n",
    "    def __createTableau(A,b):\n",
    "        tableau = np.concatenate((A,np.diag(np.ones(A.shape[0]))), axis=1) \n",
    "        tableau = np.concatenate((tableau,b), axis=1)\n",
    "        return tableau\n",
    "    \n",
    "    def __findPivotRow(tableau, col):\n",
    "        outType = np.empty(tableau[col:,-1].shape)\n",
    "        outType[:] = np.inf\n",
    "        r = np.divide(tableau[col:,-1], \n",
    "                      tableau[col:, col], \n",
    "                      out=outType, \n",
    "                      where=tableau[col:, col]!=0)\n",
    "        pivotRow = np.argmin(np.where(r>=0, r, 1e8-r))+col\n",
    "        return pivotRow\n",
    "    \n",
    "    def __switchRows(tableau,toRow,pivotRow):\n",
    "        if pivotRow == toRow:\n",
    "            return\n",
    "        \n",
    "        tmp = np.copy(tableau[pivotRow,:])\n",
    "        tableau[pivotRow,:] = tableau[toRow,:]\n",
    "        tableau[toRow,:] = tmp\n",
    "        \n",
    "    def __gaussianRowReduction(tableau, row):\n",
    "        tableau[row,:] = tableau[row,:]/tableau[row,row]\n",
    "        coef = tableau[:,[row]]/tableau[row,row]\n",
    "        coef[row,0] = 0 \n",
    "        tableau[:,:] -= np.multiply(coef,tableau[row,:])      "
   ]
  },
  {
   "cell_type": "code",
   "execution_count": 64,
   "id": "5b0663ad-ab9b-406b-8e14-a1da034d3eba",
   "metadata": {},
   "outputs": [],
   "source": [
    "def draw2DVisualization(A,b,solve,xlim=(0,50),ylim=(0,50), eq=\"≤\"):\n",
    "    x_1 = np.linspace(xlim[0], xlim[1], 1000)\n",
    "    equation = np.concatenate((A,b), axis=1)\n",
    "    zeroArg = np.argwhere(equation[:,:2]==0)[:,0]\n",
    "    oneSide = np.copy(equation[zeroArg,:])\n",
    "    equation = np.delete(equation, zeroArg, axis=0)\n",
    "    equation = equation/equation[:,[1]]\n",
    "\n",
    "    fig, ax = plt.subplots()\n",
    "    fig.set_size_inches(8, 6)\n",
    "    for i in range(equation.shape[0]):\n",
    "        plt.plot(x_1, equation[i,2] - (equation[i,0]*x_1), label=f'{A[i,0]}x1+{A[i,1]}x2{eq}{b[i,0]}')\n",
    "          \n",
    "    for i in range(oneSide.shape[0]):\n",
    "        if oneSide[i,0] == 0:\n",
    "            plt.axhline(oneSide[i,2], color = 'g', label=f'${oneSide[i,1]}x_2 {eq} {oneSide[i,2]}$') # constraint 1\n",
    "        if oneSide[i,1] == 0:\n",
    "            plt.axvline(oneSide[i,2], color = 'g', label=f'${oneSide[i,0]}x_1 {eq} {oneSide[i,2]}$') # constraint 1\n",
    "        \n",
    "    plt.plot(solve[0], solve[1], 'ro', label=\"Solve\")\n",
    "    \n",
    "    ax.spines['right'].set_visible(False)\n",
    "    ax.spines['top'].set_visible(False)\n",
    "    \n",
    "    for i in range(equation.shape[0]):\n",
    "        plt.fill_between(x_1, equation[i,2] - (equation[i,0]*x_1),  0 if eq==\"≤\" else ax.get_ylim()[1], alpha=0.2)\n",
    "\n",
    "    plt.grid()\n",
    "    plt.legend()\n",
    "    plt.show()"
   ]
  },
  {
   "cell_type": "markdown",
   "id": "06edbfa9",
   "metadata": {},
   "source": [
    "## Zadanie 1\n",
    "---\n",
    "Znajdź liczby x1 i x2 , które maksymalizują sumę x1 + x2 przy ograniczeniach:\n",
    "$$\n",
    "x1 ≥ 0, x2 ≥ 0, \\\\\n",
    "x1 + 2x2 ≤ 4, \\\\\n",
    "4x1 + 2x2 ≤ 12,\\\\\n",
    "−x 1 + x2 ≤ 1,\n",
    "$$\n",
    "Narysować zbiór dopuszczalnych rozwiązań na $R^2$ i znaleźć rozwiązanie w ujęciu\n",
    "geometrycznym, formułując zadanie programowania liniowego.\n"
   ]
  },
  {
   "cell_type": "code",
   "execution_count": 113,
   "id": "ec5240c1",
   "metadata": {},
   "outputs": [
    {
     "name": "stdout",
     "output_type": "stream",
     "text": [
      "Rozwiązanie znalezione zaimplementowaną metodą:[2.66666667 0.66666667]\n",
      "Rozwiązanie znalezione metodą z SciPy:[2.66666667 0.66666667]\n"
     ]
    },
    {
     "data": {
      "image/png": "[encoded data removed]",
      "text/plain": [
       "<Figure size 576x432 with 1 Axes>"
      ]
     },
     "metadata": {
      "needs_background": "light"
     },
     "output_type": "display_data"
    }
   ],
   "source": [
    "A = np.array([[1,2],\n",
    "              [4,2],\n",
    "              [-1,1]])\n",
    "b = np.array([4,12,1]).reshape(3,1)\n",
    "c = np.array([-1,-1])\n",
    "\n",
    "solveSimp = SimplexV2.SimplexV2(A,b,c)\n",
    "print(f'Rozwiązanie znalezione zaimplementowaną metodą:{solveSimp}')\n",
    "\n",
    "solveSp = sp.linprog(method='simplex', A_ub=A, b_ub=b, c=np.array([-1,-1]))\n",
    "print(f'Rozwiązanie znalezione metodą z SciPy:{solveSp.x}')\n",
    "\n",
    "draw2DVisualization(A,b,solveSimp,(0,3))"
   ]
  },
  {
   "cell_type": "markdown",
   "id": "aeef7b3c-38a7-4087-99ba-31231f88f05d",
   "metadata": {},
   "source": [
    "### Rozwiązanie ręczne:\n",
    "| $x_1$ | $x_2$ | $x_3$ | $x_4$ | $x_5$ | b  |\n",
    "|------|------|------|------|------|----|\n",
    "| 1    | 2    | 1    | 0    | 0    | 4  |\n",
    "| 4    | 2    | 0    | 1    | 0    | 12 |\n",
    "| -1   | 1    | 0    | 0    | 1    | 1  |\n",
    "|------|------|------|------|------|----|\n",
    "| -1   | -1   | 0    | 0    | 0    | 0  |\n",
    "\n",
    "$$ \\Downarrow$$\n",
    "\n",
    "| $x_1$ | $x_2$ | $x_3$ | $x_4$ | $x_5$ | b  |\n",
    "|------|------|------|------|------|----|\n",
    "| 0    | $\\frac{3}{2}$    | 1    | -$\\frac{1}{4}$    | 0    | 1  |\n",
    "| 1    | $\\frac{1}{2}$    | 0    | $\\frac{1}{4}$    | 0    | 3 |\n",
    "| 0   | $\\frac{3}{2}$    | 0    | $\\frac{1}{4}$    | 1    | 4  |\n",
    "|------|------|------|------|------|----|\n",
    "| 0   | $-\\frac{1}{2}$   | 0    | $\\frac{1}{4}$    | 0    | 3  |\n",
    "\n",
    "$$ \\Downarrow$$\n",
    "\n",
    "| $x_1$ | $x_2$ | $x_3$ | $x_4$ | $x_5$ | b  |\n",
    "|------|------|------|------|------|----|\n",
    "| 0    | 1    | $\\frac{2}{3}$    | -$\\frac{1}{6}$    | 0    | $\\frac{2}{3}$  |\n",
    "| 1    | 0    | -$\\frac{1}{3}$    | $\\frac{1}{3}$    | 0    | $\\frac{8}{3}$ |\n",
    "| 0   | 1    | -1    | $\\frac{1}{2}$    | 1    | 4  |\n",
    "|------|------|------|------|------|----|\n",
    "| 0   | 0   | $\\frac{1}{3}$    | $\\frac{1}{6}$    | 0    | 10/3  |\n",
    "\n",
    "$$ \\Downarrow$$\n",
    "\n",
    "$$\n",
    "x_1 = \\frac{10}{3} \\\\\n",
    "x_2 = \\frac{2}{3}\n",
    "$$\n"
   ]
  },
  {
   "cell_type": "markdown",
   "id": "5552f3dd",
   "metadata": {},
   "source": [
    "## Zadanie 2\n",
    "---\n",
    "Zrównoważona normalna dieta zakłada, że codziennie powinniśmy spożywać co\n",
    "najmniej 60 gramów białka i co najmniej 120 gramów węglowodanów. Zakładamy, że 100\n",
    "gram sera zawiera 20 gramy białka i 20 gramy węglowodanów, natomiast taka sama ilość\n",
    "chleba zawiera 10 gram białka i 30 gramy węglowodanów. Proszę wyznaczyć najbardziej\n",
    "ekonomiczną dietę przy założeniu, że cena sera wynosi 30 zł/kg, a chleba 20 zł/kg.\n"
   ]
  },
  {
   "cell_type": "markdown",
   "id": "528a5d90",
   "metadata": {},
   "source": [
    "Wymagania: \n",
    "- Białko $\\geqslant$ 60\n",
    "- Węglowaodany $\\geqslant$ 120\n",
    "\n",
    "Założenia:\n",
    "- Ser w 100g: (Cena: 3zł/100g) \n",
    "    - 20g białka\n",
    "    - 20g węglowodanów\n",
    "- Chleb w 100g: (Cena: 2zł/100g) \n",
    "    - 10g białka\n",
    "    - 30g węglowodanów\n",
    "    \n",
    "---\n",
    "Minimalizacja funkcji celu : $3x_1+2x_2$, gdzie \n",
    "\n",
    "$x_1$-ser, \n",
    "\n",
    "$x_2$-chleb\n",
    "\n",
    "Przy założeniach:\n",
    "$$\n",
    "\\left\\{\\begin{matrix}\n",
    "20x_1 & + & 10x_2 & \\geq  & 60 \\\\ \n",
    "20x_1 & + & 30x_2 & \\geq  & 120\n",
    "\\end{matrix}\\right.\n",
    "$$"
   ]
  },
  {
   "cell_type": "code",
   "execution_count": 114,
   "id": "40356201",
   "metadata": {},
   "outputs": [
    {
     "name": "stdout",
     "output_type": "stream",
     "text": [
      "Rozwiązanie znalezione zaimplementowaną metodą:[1.5 3. ]\n",
      "Rozwiązanie znalezione metodą z SciPy:[1.5 3. ]\n"
     ]
    },
    {
     "data": {
      "image/png": "[encoded data removed]",
      "text/plain": [
       "<Figure size 576x432 with 1 Axes>"
      ]
     },
     "metadata": {
      "needs_background": "light"
     },
     "output_type": "display_data"
    },
    {
     "name": "stdout",
     "output_type": "stream",
     "text": [
      "Koszt optymalnej diety 10.5 zł\n"
     ]
    }
   ],
   "source": [
    "A = np.array([[20,10],\n",
    "              [20,30]])\n",
    "b = np.array([[60],\n",
    "              [120]])\n",
    "c = np.array([3,2])\n",
    "\n",
    "solveSimp = SimplexV2.SimplexV2(A,b,c)\n",
    "print(f'Rozwiązanie znalezione zaimplementowaną metodą:{solveSimp}')\n",
    "\n",
    "solveSp = sp.linprog(method='simplex', A_eq=A, b_eq=b, c=c)\n",
    "print(f'Rozwiązanie znalezione metodą z SciPy:{solveSp.x}')\n",
    "\n",
    "draw2DVisualization(A,b,solveSimp,(0,10),eq=\"≥\")\n",
    "\n",
    "print(f'Koszt optymalnej diety {solveSimp@c.T} zł')"
   ]
  },
  {
   "cell_type": "markdown",
   "id": "cf3e48ed-9b2b-4742-a017-69ca559e17b1",
   "metadata": {},
   "source": [
    "### Wnioski\n",
    "\n",
    "---\n",
    "Wyniki uzyskane zaimplementowaną metodą simplex, jak i metodą dostępną w pakiecie sciPy dostarczają takie same wyniki. Minimalizację kosztów uzyskujemy dla 150g sera oraz 300g chleba. Koszt diety 10,50zł."
   ]
  },
  {
   "cell_type": "markdown",
   "id": "b2e1fce3-16cc-4434-af9e-943fce44058a",
   "metadata": {},
   "source": [
    "## Zadanie 3\n",
    "---\n",
    "Ciężarówka może przewieźć z Wrocławia do Krakowa następujące produkty: sól,\n",
    "ryż i makaron. Maksymalna objętość załadunkowa wynosi 7000 litrów, a maksymalne\n",
    "obciążenie 5000 kg. Zakładamy, że jeden kilogram soli, ryżu i makaronu ma objętość\n",
    "odpowiednio 0,5, 2 i 2 litrów. Zysk z przewozu 100 kg soli, ryżu i makaronu wynosi\n",
    "odpowiednio 8 zł, 10 zł i 25 zł. Ile soli, ryżu i makaronu należy załadować do ciężarówki, aby\n",
    "zysk był jak największy?\n",
    "\n",
    "Wymagania:\n",
    "- $V_{max} ≤ 7000l$\n",
    "- $m_{max} ≤ 5000kg$\n",
    "\n",
    "Oznaczenia:\n",
    "- $x_1$-sól,  \n",
    "- $x_2$-ryż,\n",
    "- $x_3$-makaron\n",
    "\n",
    "Zysk z 100kg:\n",
    "- $x_1$ - 8zł\n",
    "- $x_2$ - 10zł\n",
    "- $x_3$ - 25zł\n",
    "\n",
    "Objętość z kilograma towaru:\n",
    "- $x_1$ - 0,5l\n",
    "- $x_2$ - 2l\n",
    "- $x_3$ - 2l\n",
    "\n",
    "---\n",
    "Minimalizacja funckji celu $\\frac{8x_1}{100}+\\frac{10x_2}{100}+\\frac{25x_3}{100}$, z ograniczeniami:\n",
    "$$\n",
    "\\left\\{\\begin{matrix}\n",
    "x_1 &+& x_2 &+& x_3 & \\leqslant & 5000 \\\\ \n",
    "0,5x_1 &+& 2x_2  &+& 2x_3 & \\leqslant & 7000\n",
    "\\end{matrix}\\right.\n",
    "$$"
   ]
  },
  {
   "cell_type": "code",
   "execution_count": 112,
   "id": "3e808a2d-25c1-4188-a1e4-30023fb891f8",
   "metadata": {},
   "outputs": [
    {
     "name": "stdout",
     "output_type": "stream",
     "text": [
      "Rozwiązanie znalezione metodą z SciPy:[2000.    0. 3000.]\n",
      "Po wykreśleniu ryżu ze względu na brak opłacalności:\n",
      "Rozwiązanie znalezione zaimplementowaną metodą:[2000. 3000.]\n"
     ]
    },
    {
     "data": {
      "image/png": "[encoded data removed]",
      "text/plain": [
       "<Figure size 576x432 with 1 Axes>"
      ]
     },
     "metadata": {
      "needs_background": "light"
     },
     "output_type": "display_data"
    }
   ],
   "source": [
    "A = np.array([[1,1,1],\n",
    "              [0.5,2,2]])\n",
    "b = np.array([[5000],\n",
    "              [7000]])\n",
    "c = np.array([-8/100, -10/100, -25/100])\n",
    "\n",
    "solveSp = sp.linprog(method='simplex', A_eq=A, b_eq=b, c=c)\n",
    "print(f'Rozwiązanie znalezione metodą z SciPy:{solveSp.x}')\n",
    "\n",
    "print(f'Po wykreśleniu ryżu ze względu na brak opłacalności:')\n",
    "A = np.concatenate((A[:,[0]],A[:,[2]]), axis=1)\n",
    "c = np.array(c[0],c[1])\n",
    "solveSimp = SimplexV2.SimplexV2(A,b,c)\n",
    "print(f'Rozwiązanie znalezione zaimplementowaną metodą:{solveSimp}')\n",
    "draw2DVisualization(A,b,solveSimp,(0,5000))\n"
   ]
  },
  {
   "cell_type": "markdown",
   "id": "f9ac3264-e019-4aa8-8b0a-fa8d725d4814",
   "metadata": {},
   "source": [
    "### Wnioski\n",
    "\n",
    "---\n",
    "W powyższym zadaniu należy inne metody niż simplex, w tym celu można skorzystać z dwufazowego simplexa. W zadaniu oczywista była możliwość wyeliminowania ryżu ze względów ekonomicznych zdecydowanie bardziej opłacalny był przewóz makaron. Przy tej samej wadze i objętości zysk z makaronu jest o 15zł większa.\n",
    "Zgodnie z powyższym najkorzystniej jest przewozić 2000kg soli oraz 3000kg makaronu."
   ]
  },
  {
   "cell_type": "markdown",
   "id": "049b1470-df29-4e51-b852-8119089b65c3",
   "metadata": {},
   "source": [
    "## Zadanie 4\n",
    "---\n",
    "W pewnej rafinerii proces rafinacji wymaga wyprodukowania co najmniej dwóch\n",
    "litrów benzyny na każdy litr oleju opałowego. Aby sprostać przewidywanemu zapotrzebowaniu\n",
    "w okresie zimowym, trzeba będzie produkować co najmniej trzy miliony litrów oleju\n",
    "opałowego dziennie. Z kolei, zapotrzebowanie na benzynę wynosi nie więcej niż 6,4 miliona\n",
    "litrów dziennie. Jeśli benzynę sprzedaje się po 1,90 dolara za litr, a olej opałowy po 1,50 dolara\n",
    "za litr, to ile należy wyprodukować każdego z tych produktów, aby zmaksymalizować\n",
    "przychody?\n",
    "\n",
    "---\n",
    "\n",
    "Przyjęte oznaczenia:\n",
    "- $x_1$-litr benzyny,  \n",
    "- $x_2$-litr oleju opałowego.\n",
    "\n",
    "Zysk z 1l:\n",
    "- $x_1$ - 1,9\\$\n",
    "- $x_2$ - 1,5\\$\n",
    "\n",
    "\n",
    "Ograniczenia wynikające z treści:\n",
    "\n",
    "- Ograniczenie ilości sprzedaży:\n",
    "$$x_1 \\leq 6,4*10^6$$\n",
    "$$x_2 \\geq 3e*10^6  \\Rightarrow  -x_2 \\leq 3e*10^6$$\n",
    "- Ograniczenia ryzyka:\n",
    "$$ x_1 - 2x_2 \\leq 0 $$\n",
    "\n",
    "\n",
    "Funkcja do minimializacji: $-1,9x_1-1,5x_2$"
   ]
  },
  {
   "cell_type": "code",
   "execution_count": 84,
   "id": "b9c5cf77-cdce-446a-ab73-0dec6ac2267d",
   "metadata": {},
   "outputs": [
    {
     "name": "stdout",
     "output_type": "stream",
     "text": [
      "Rozwiązanie znalezione zaimplementowaną metodą:[6400000. 3200000.]\n",
      "Rozwiązanie znalezione metodą z SciPy:[6400000. 3200000.]\n"
     ]
    },
    {
     "data": {
      "image/png": "[encoded data removed]",
      "text/plain": [
       "<Figure size 576x432 with 1 Axes>"
      ]
     },
     "metadata": {
      "needs_background": "light"
     },
     "output_type": "display_data"
    },
    {
     "name": "stdout",
     "output_type": "stream",
     "text": [
      "Maksymalne dochody 16960000.0 $\n"
     ]
    }
   ],
   "source": [
    "A = np.array([[1,-2],\n",
    "              [1,0],\n",
    "              [0,-1]])\n",
    "b = np.array([[0],\n",
    "              [6.4e6],\n",
    "             [3e6]])\n",
    "c = np.array([-1.9,-1.5])\n",
    "\n",
    "solveSimp = SimplexV2.SimplexV2(A,b,c)\n",
    "print(f'Rozwiązanie znalezione zaimplementowaną metodą:{solveSimp}')\n",
    "\n",
    "solveSp = sp.linprog(method='simplex', A_ub=A, b_ub=b, c=c)\n",
    "print(f'Rozwiązanie znalezione metodą z SciPy:{solveSp.x}')\n",
    "\n",
    "draw2DVisualization(A,b,solveSimp,(5.5e6,7e6))\n",
    "print(f'Maksymalne dochody {solveSimp@-c.T} $')"
   ]
  },
  {
   "cell_type": "markdown",
   "id": "f1e858b6-63cb-442b-a8d9-c2d3e8d42e08",
   "metadata": {},
   "source": [
    "### Wnioski\n",
    "\n",
    "---\n",
    "Maksymalizację zysków uzyskujemy dla 6400000l benzyny oraz 3200000l oleju opałowego. Zysk 16960000 $."
   ]
  },
  {
   "cell_type": "markdown",
   "id": "ea7145f6-a7ac-4bbd-b466-bc3f4f253509",
   "metadata": {
    "tags": []
   },
   "source": [
    "## Zadanie 5\n",
    "---\n",
    "Załóżmy, że mamy do zainwestowania 12 000 USD i trzy różne fundusze do\n",
    "wyboru. Fundusz obligacji komunalnych ma stopę zwrotu 7%, lokata bankowa ma stopę zwrotu\n",
    "8%, a konto wysokiego ryzyka ma oczekiwaną (spodziewaną) stopę zwrotu 12%. Aby\n",
    "zminimalizować ryzyko, postanawiasz nie inwestować więcej niż 2000 USD na koncie\n",
    "wysokiego ryzyka. Ze względów podatkowych musisz zainwestować co najmniej trzy razy\n",
    "więcej w obligacje komunalne niż w lokatę bankową. Zakładając, że zyski na koniec roku będą\n",
    "zgodne z oczekiwaniami, jakie są optymalne kwoty inwestycji?\n",
    "\n",
    "---\n",
    "Przyjęte oznaczenia:\n",
    "- $x_1$-obligacji komunalnych,  \n",
    "- $x_2$-lokata bankowa,\n",
    "- $x_3$-konto wysokiego ryzyka.\n",
    "\n",
    "Potencjalny zysk:\n",
    "- $x_1$-7%,  \n",
    "- $x_2$-8%,\n",
    "- $x_3$-12%.\n",
    "\n",
    "Ograniczenia wynikające z treści:\n",
    "\n",
    "- Ograniczenie ilości pieniędzy:\n",
    "$$x_1+x_2+x_3 \\leq 12000$$\n",
    "- Ograniczenia ryzyka:\n",
    "$$ x_3 \\leq 2000 $$\n",
    "- Ograniczenia wynikające ze względów podatkowych\n",
    "$$ -3x_1 + x_2 \\leq 0$$\n",
    "\n",
    "Funkcja do minimializacji: $-0.07x_1-0.08x_2-0.12x_3$"
   ]
  },
  {
   "cell_type": "code",
   "execution_count": 86,
   "id": "70ed0a2f-7076-4904-9500-afd301385f03",
   "metadata": {},
   "outputs": [
    {
     "name": "stdout",
     "output_type": "stream",
     "text": [
      "Rozwiązanie znalezione zaimplementowaną metodą:[2500. 7500. 2000.]\n",
      "Rozwiązanie znalezione metodą z SciPy:[2500. 7500. 2000.]\n",
      "Kwota po rocznej kapitalizacji 13015.0 zł\n"
     ]
    }
   ],
   "source": [
    "A = np.array([[1,1,1],\n",
    "              [-3,1,0],\n",
    "              [0,0,1]])\n",
    "b = np.array([[12000],\n",
    "              [0],\n",
    "              [2000]])\n",
    "c = np.array([-0.07,-0.08,-0.12])\n",
    "\n",
    "solveSimp = SimplexV2.SimplexV2(A,b,c)\n",
    "print(f'Rozwiązanie znalezione zaimplementowaną metodą:{solveSimp}')\n",
    "\n",
    "\n",
    "solveSp = sp.linprog(method='simplex', A_ub=A, b_ub=b, c=c)\n",
    "print(f'Rozwiązanie znalezione metodą z SciPy:{solveSp.x}')\n",
    "\n",
    "print(f'Kwota po rocznej kapitalizacji {solveSimp@(1+(-c)).T} zł')\n"
   ]
  },
  {
   "cell_type": "markdown",
   "id": "bb557abe-d98f-4e54-9d2e-ab2ec30a537d",
   "metadata": {},
   "source": [
    "### Wnioski\n",
    "\n",
    "---\n",
    "Najkorzystniej jest rozłożyć środki w poszczególne aktywa zponiższymi wagami:\n",
    "- obligacji komunalnych - 2500zł,\n",
    "- lokata bankowa - 7500zł,\n",
    "- konto wysokiego ryzyka - 2000zł.\n",
    "\n",
    "Po rocznej kapitalizacji kwota 13015zł."
   ]
  },
  {
   "cell_type": "markdown",
   "id": "62bb9405-9b7e-4bb0-b68a-bafc31459805",
   "metadata": {},
   "source": [
    "## Zadanie 6\n",
    "---\n",
    "Firma zajmująca się montażem i dystrybucją drukarek posiada dwa rodzaje\n",
    "drukarek - laserowe i atramentowe. Montaż każdej drukarki laserowej trwa dwie godziny,\n",
    "natomiast montaż każdej drukarki atramentowej jedną godzinę, a pracownicy mogą zapewnić\n",
    "łącznie 40 osobogodzin czasu montażu dziennie. Ponadto, do montażu i dystrybucji drukarek\n",
    "musi być dostępna przestrzeń magazynowa, 1 metr kwadratowy na każdą drukarkę laserową3 metry kwadratowe na każdą drukarkę atramentową; firma dysponuje łącznie 45 metrami\n",
    "kwadratowymi powierzchni magazynowej dostępnej dla zmontowanych drukarek każdego\n",
    "dnia. Drukarki laserowe mogą być sprzedawane z zyskiem 30 euro za sztukę, a drukarki\n",
    "atramentowe przynoszą zysk 25 euro za sztukę, ale rynek, na którym działa firma, może\n",
    "wchłonąć maksymalnie 12 drukarek laserowych dziennie. (Na rynku drukarek atramentowych\n",
    "nie ma takiego ograniczenia). Sformułuj to zadanie jako zadanie programowania liniowego wyznacz liczbę każdego typu drukarek, które firma powinna montować i dystrybuować, aby\n",
    "zmaksymalizować dzienny zysk.\n",
    "\n",
    "\n",
    "---\n",
    "Przyjęte oznaczenia:\n",
    "- $x_1$ - drukarka laserowa,\n",
    "- $x_2$ - drukarka atramentowa.\n",
    "\n",
    "Ograniczenia wynikające z treści:\n",
    "\n",
    "- Ograniczenie czasu montażowego:\n",
    "$$2x_1+x_2 \\leq 40$$\n",
    "- Ograniczenia przestrzeni magazynowej:\n",
    "$$ x_1+3x_2 \\leq 45 $$\n",
    "- Ograniczenia wynikające z rynku\n",
    "$$ x_2 \\leq 12$$\n",
    "\n",
    "\n",
    "Funkcja do minimializacji: $-30x_1-25x_2$"
   ]
  },
  {
   "cell_type": "code",
   "execution_count": 87,
   "id": "acadc798-d404-478d-b880-d9048e21c5aa",
   "metadata": {},
   "outputs": [
    {
     "name": "stdout",
     "output_type": "stream",
     "text": [
      "Rozwiązanie znalezione zaimplementowaną metodą:[15. 10.]\n",
      "Rozwiązanie znalezione metodą z SciPy:[15. 10.]\n"
     ]
    },
    {
     "data": {
      "image/png": "[encoded data removed]",
      "text/plain": [
       "<Figure size 576x432 with 1 Axes>"
      ]
     },
     "metadata": {
      "needs_background": "light"
     },
     "output_type": "display_data"
    },
    {
     "name": "stdout",
     "output_type": "stream",
     "text": [
      "Maksymalny dzienny zysk wynosi: 700.0 zł.\n"
     ]
    }
   ],
   "source": [
    "A = np.array([[2,1],\n",
    "              [1,3],\n",
    "              [0,1]])\n",
    "b = np.array([[40],[45],[12]])\n",
    "c = np.array([-30,-25])\n",
    "\n",
    "solveSimp = SimplexV2.SimplexV2(A,b,c)\n",
    "print(f'Rozwiązanie znalezione zaimplementowaną metodą:{solveSimp}')\n",
    "\n",
    "\n",
    "solveSp = sp.linprog(method='simplex', A_ub=A, b_ub=b, c=c)\n",
    "print(f'Rozwiązanie znalezione metodą z SciPy:{solveSp.x}')\n",
    "\n",
    "draw2DVisualization(A,b,solveSimp,(6,16))\n",
    "\n",
    "print(f'Maksymalny dzienny zysk wynosi: {solveSimp@-c.T} zł.')"
   ]
  },
  {
   "cell_type": "markdown",
   "id": "b5be59e0-321f-42ad-8dbc-97eda2746e95",
   "metadata": {},
   "source": [
    "### Wnioski\n",
    "---\n",
    "\n",
    "Wyniki uzyskane zaimplementowaną metodą simplex, jak i metodą dostępną w pakiecie sciPy dostarczają takie same wyniki. Maksymalizację zadania przy podanych warunkach, uzyskujemy dla 15 drukarek laserowych oraz 10 drukarek atramentowych. Dzienny zysk wyniósłby 700zł."
   ]
  }
 ],
 "metadata": {
  "kernelspec": {
   "display_name": "Python 3 (ipykernel)",
   "language": "python",
   "name": "python3"
  },
  "language_info": {
   "codemirror_mode": {
    "name": "ipython",
    "version": 3
   },
   "file_extension": ".py",
   "mimetype": "text/x-python",
   "name": "python",
   "nbconvert_exporter": "python",
   "pygments_lexer": "ipython3",
   "version": "3.8.10"
  },
  "toc-autonumbering": false,
  "toc-showcode": false,
  "toc-showmarkdowntxt": false
 },
 "nbformat": 4,
 "nbformat_minor": 5
}
