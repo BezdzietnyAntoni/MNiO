{
 "cells": [
  {
   "cell_type": "markdown",
   "id": "907c4f9f",
   "metadata": {},
   "source": [
    "<h1><center>Metody numeryczne i optymalizacja</center></h1>\n",
    "\n",
    "<h3><center>Lista 4</center></h3>\n",
    "<h3><center>LINIOWE ZADANIA PODOKREŚLONE</center></h3>\n",
    "\n",
    "\n",
    "\n",
    "<h6><center>Antoni Bezdzietny 249327</center></h6>\n",
    "\n",
    "<h6><center>Paweł Krysa 249171</center></h6>\n",
    "\n",
    "<h6><center>24.04.2022</center></h6>"
   ]
  },
  {
   "cell_type": "code",
   "execution_count": 1,
   "id": "ba49247e",
   "metadata": {},
   "outputs": [],
   "source": [
    "import numpy as np\n",
    "import matplotlib.pyplot as plt"
   ]
  },
  {
   "cell_type": "markdown",
   "id": "266e3a6b",
   "metadata": {},
   "source": [
    "#### Problem rozwiązania rzadkiego \n",
    "---\n",
    "Minimalizacja w zadaniach podokreślonych:\n",
    "$$ min_x \\{ ||\\boldsymbol{Ax-b}||^2_2 + \\gamma E^{(p)}(\\boldsymbol{x})  \\} $$\n",
    "\n",
    "Miara różnorodności Lp:\n",
    "$$ E^{(p)}(\\boldsymbol{x}) = sgn(p) \\sum^N_{j=1} |x_j|^p \\quad p \\leq 1$$\n",
    "\n",
    "---\n",
    "##### Algorytm FOCUSS\n",
    "$p\\in [0,1], \\lambda > 0 $\n",
    "\n",
    "$\\boldsymbol{x}^{(0)}$ - zainicjalizowany wartościami przypadkowymi \n",
    "\n",
    "**FOR** k = 0,1,2,... do uzyskania zbieżności **wykonaj**\n",
    "\n",
    "$\\boldsymbol{W}_k = diag\\{|x_j^{(k)}|^{\\frac{1-p}{2}}\\}$\n",
    "\n",
    "$\\boldsymbol{x}^{(k+1)} = \\boldsymbol{W}_k^2\\boldsymbol{A}^T(\\boldsymbol{A}\\boldsymbol{W}_k^2\\boldsymbol{A}^T + \\lambda \\boldsymbol{I}_M)^{-1}\\boldsymbol{b}$\n",
    "\n",
    "---\n",
    "#### Algorytm MFOCUSS\n",
    "$p\\in [0,1], \\lambda > 0 $\n",
    "\n",
    "$\\boldsymbol{X}^{(0)}$ - zainicjalizowany wartościami przypadkowymi \n",
    "\n",
    "**FOR** k = 0,1,2,... do uzyskania zbieżności **wykonaj**\n",
    "\n",
    "$\\boldsymbol{W} = diag(w^{\\frac{1-p}{2}}_j)$ gdzie: $w_j = ||(\\boldsymbol{x}^T_j)^{(k-1)}||_2$\n",
    "\n",
    "$ A^{(k+1)} = \\boldsymbol{AW}^{(k)}$\n",
    "\n",
    "$ \\boldsymbol{X}^{(k+1)} = \\boldsymbol{W}^{(k)}(\\boldsymbol{A}^{(k)})^T(\\boldsymbol{A}^{(k)}(\\boldsymbol{A}^{(k)})^T + \\lambda \\boldsymbol{I}_M)^{-1}\\boldsymbol{B}$"
   ]
  },
  {
   "cell_type": "code",
   "execution_count": 2,
   "id": "78b1b8ce",
   "metadata": {},
   "outputs": [],
   "source": [
    "# Implementacja zgodna z podanym algorytmem \n",
    "def FOCUSS(A,b,p=0.5, k=20, lmb = 1e-4):\n",
    "    \"\"\"Iplementacja algorytmu FOCUSS dla k przebiegów\"\"\"\n",
    "    x = np.random.rand(A.shape[1]).reshape(A.shape[1],1)\n",
    "    for _ in range(k):\n",
    "        W = np.power(np.diag(np.power(np.abs(x[:,0]), (1-p)/2)), 2)\n",
    "        x = W@A.T@np.linalg.inv(A@W@A.T+lmb*np.eye(A.shape[0]))@b\n",
    "    return x  \n",
    "\n",
    "# Implementacja z progiem błędu\n",
    "def FOCUSS_THRESHOLD(A,b,p=1, lmb=1e-4, eps=1e-4):\n",
    "    \"\"\"Iplementacja algorytmu FOCUSS z zadanym progiem błędu eps\"\"\"\n",
    "    x = np.random.rand(A.shape[1]).reshape(A.shape[1],1)\n",
    "    x_b = x\n",
    "    error = 1\n",
    "    iter_count = 0 \n",
    "    while error > eps:\n",
    "        W = np.power(np.diag(np.power(np.abs(x[:,0]), (1-p)/2)), 2)\n",
    "        x = W@A.T@np.linalg.inv(A@W@A.T+lmb*np.eye(A.shape[0]))@b\n",
    "        error = np.sum(np.abs(x-x_b))\n",
    "        x_b = np.copy(x)\n",
    "        iter_count+=1\n",
    "    return x, iter_count"
   ]
  },
  {
   "cell_type": "code",
   "execution_count": 3,
   "id": "c04c8671",
   "metadata": {},
   "outputs": [],
   "source": [
    "def MFOCUSS(A,B, p=0.5, k=20, lmb=1e-4):\n",
    "    \"\"\"Implementacja algorytmu MFOCUSS dla k przebiegów\"\"\"\n",
    "    X = np.random.rand(A.shape[1], B.shape[1])\n",
    "    for _ in range(k):\n",
    "        W = np.diag(np.power(np.linalg.norm(X, axis=1), (1-p)/2))\n",
    "        Ak1 = A@W\n",
    "        X = W@Ak1.T@np.linalg.inv(Ak1@Ak1.T + lmb*np.eye(A.shape[0]))@B\n",
    "    return X"
   ]
  },
  {
   "cell_type": "markdown",
   "id": "33fc6c9c",
   "metadata": {},
   "source": [
    "---\n",
    "### Zadanie 1\n",
    "Znajdź liczby a, b, c, dla których poniższy układ równań nie jest sprzeczny. Przyspełnieniu warunku niesprzeczności, znajdź zbiór wszystkich rozwiązań (w funkcji parametrów a, b oraz c):\n",
    "\n",
    "$$ \n",
    "\\left\\{\\begin{matrix}\n",
    " x & +3y & +z & = a\\\\ \n",
    "-x & +2y & +z & =b\\\\ \n",
    " 3x & +7y & -z & =c\n",
    "\\end{matrix}\\right.\n",
    "$$\n",
    "\n",
    "Następnie, wyznacz parametry a, b, c, dla których:\n",
    "$$(a) x = 0, y = 3, z = 1$$\n",
    "$$(b) x = 0, y = 0, z = 1$$\n",
    "$$(c) x = -2, y= 1, z = 0$$\n",
    "Dla wyznaczonych parametrów a, b, c, znajdź estymowane rozwiązanie przy pomocy zregularyzowanego algorytmu FOCUSS."
   ]
  },
  {
   "cell_type": "markdown",
   "id": "69f72876",
   "metadata": {},
   "source": [
    "---\n",
    "\n",
    "Układ równań do rozwiązania:\n",
    "$$\\begin{bmatrix}1 &3  &1 \\\\ -1 &-2  &1 \\\\ 3 &7  &-1 \\end{bmatrix}\\begin{bmatrix}x\\\\ y\\\\ z\\end{bmatrix}=\\begin{bmatrix}a\\\\ b\\\\ c\\end{bmatrix}$$"
   ]
  },
  {
   "cell_type": "markdown",
   "id": "05a11f81",
   "metadata": {},
   "source": [
    "\n",
    "\n",
    "Korzystając z eliminacji Gaussa uzyskano:\n",
    "$$\n",
    "    \\begin{bmatrix}\n",
    "    1 & 3 & 1 & | & a\\\\ \n",
    "    -1 & -2 &  1& | & b\\\\ \n",
    "     3&  7&  -1& | & c\n",
    "    \\end{bmatrix}\n",
    "    \\rightarrow \n",
    "    \\begin{bmatrix}\n",
    "    1 & 3 & 1 & | & a\\\\ \n",
    "    0 & 1 &  2& | & b+a\\\\ \n",
    "    0 & -2 &  -4& | & c-3a\n",
    "    \\end{bmatrix}\n",
    "    \\rightarrow \n",
    "    \\begin{bmatrix}\n",
    "    1 & 0 & -5 & | & -2a-3b\\\\ \n",
    "    0 & 1 &  2& | & b+a\\\\ \n",
    "    0 & 0 &  0& | & c-a+2b\n",
    "    \\end{bmatrix}\n",
    "$$\n",
    "\n",
    "W wyniku uzyskano:\n",
    "$$\n",
    "\\left\\{\\begin{matrix}\n",
    " x &=& -2a & -3b & +5z\\\\ \n",
    " y &=& b & +a & -2z\\\\ \n",
    " z &=& wolna &zmienna &\n",
    "\\end{matrix}\\right.\n",
    "$$\n",
    "\n",
    "Warunek posiadania rozwiązania: $c-a+2b = 0$"
   ]
  },
  {
   "cell_type": "markdown",
   "id": "e80b7458",
   "metadata": {},
   "source": [
    "---\n",
    "Dla wariantu (a) x = 0, y = 3, z = 1\n",
    "$$\n",
    "\\left\\{\\begin{matrix}\n",
    " a & = & 10\\\\ \n",
    " b & = & -5\\\\ \n",
    " c & = & 20\n",
    "\\end{matrix}\\right.\n",
    "$$\n",
    "\n",
    "\n",
    "$$20-10+2(-5)=0$$ \n",
    "\n",
    "\n",
    "Dla wariantu (b) x = 0, y = 3, z = 1\n",
    "$$\n",
    "\\left\\{\\begin{matrix}\n",
    " a & = & 1\\\\ \n",
    " b & = & 1\\\\ \n",
    " c & = & -1\n",
    "\\end{matrix}\\right.\n",
    "$$\n",
    "\n",
    "\n",
    "$$-1-1+2(1)=0$$ \n",
    "\n",
    "\n",
    "Dla wariantu (c) x = -2, y = 1, z = 0\n",
    "$$\n",
    "\\left\\{\\begin{matrix}\n",
    " a & = & 1\\\\ \n",
    " b & = & 0\\\\ \n",
    " c & = & 1\n",
    "\\end{matrix}\\right.\n",
    "$$\n",
    "\n",
    "\n",
    "$$1-1+2(0)=0$$ \n",
    "\n",
    "Wszystkie podpunkty posiadają rozwiązanie."
   ]
  },
  {
   "cell_type": "code",
   "execution_count": 4,
   "id": "363d8012",
   "metadata": {},
   "outputs": [
    {
     "name": "stdout",
     "output_type": "stream",
     "text": [
      "Wyniki uzyskane dla przypadku (a) w 2 iteracjach: \n",
      " [[1.48438683e-05]\n",
      " [2.99998906e+00]\n",
      " [9.99974220e-01]]\n",
      "Błąd rozwiązania: 3.169528925655024e-05\n",
      "Błąd residualny: 7.654524203204636e-05\n",
      "Wyniki uzyskane dla przypadku (b) w 2 iteracjach: \n",
      " [[-5.54601147e-05]\n",
      " [ 1.71847099e-05]\n",
      " [ 9.99922666e-01]]\n",
      "Błąd rozwiązania: 9.670443391046606e-05\n",
      "Błąd residualny: 8.793466054708215e-05 \n",
      "\n",
      "Wyniki uzyskane dla przypadku (c) w 2 iteracjach: \n",
      " [[-1.99983440e+00]\n",
      " [ 9.99943757e-01]\n",
      " [ 1.28104939e-04]]\n",
      "Błąd rozwiązania: 0.0002167928618693566\n",
      "Błąd residualny: 0.00019682631821551063 \n",
      "\n"
     ]
    }
   ],
   "source": [
    "A = np.array([[1,3,1],\n",
    "              [-1,2,1],\n",
    "              [3,7,-1]])\n",
    "# Dla przypadku a \n",
    "x = np.array([0,3,1]).reshape(3,1)\n",
    "b = A@x\n",
    "x_ls, iter_ = FOCUSS_THRESHOLD(A,b)\n",
    "print(f'Wyniki uzyskane dla przypadku (a) w {iter_} iteracjach: \\n {x_ls}')\n",
    "print(f'Błąd rozwiązania: {np.linalg.norm(x-x_ls)}')\n",
    "print(f'Błąd residualny: {np.linalg.norm(b-A@x_ls)}')\n",
    "\n",
    "# Dla przypadku b\n",
    "x = np.array([0,0,1]).reshape(3,1)\n",
    "b = A@x\n",
    "x_ls, iter_ = FOCUSS_THRESHOLD(A,b)\n",
    "print(f'Wyniki uzyskane dla przypadku (b) w {iter_} iteracjach: \\n {x_ls}')\n",
    "print(f'Błąd rozwiązania: {np.linalg.norm(x-x_ls)}')\n",
    "print(f'Błąd residualny: {np.linalg.norm(b-A@x_ls)} \\n')\n",
    "\n",
    "# Dla przypadku c\n",
    "x = np.array([-2,1,0]).reshape(3,1)\n",
    "b = A@x\n",
    "x_ls, iter_ = FOCUSS_THRESHOLD(A,b)\n",
    "print(f'Wyniki uzyskane dla przypadku (c) w {iter_} iteracjach: \\n {x_ls}')\n",
    "print(f'Błąd rozwiązania: {np.linalg.norm(x-x_ls)}')\n",
    "print(f'Błąd residualny: {np.linalg.norm(b-A@x_ls)} \\n')"
   ]
  },
  {
   "cell_type": "markdown",
   "id": "193d9752",
   "metadata": {},
   "source": [
    "#### Wnioski \n",
    "Dla wszystkich przypadków równania posiadały rozwiązanie tzn. wyzerowany wiersz musi być równy wartości zero w kolumnie dopełnienia. W przypadku (a) oraz (b) błąd rozwiązania jak i błąd residualny są rzędu $10^{-5}$, w przypadku (c) błędy są większe."
   ]
  },
  {
   "cell_type": "markdown",
   "id": "1a5c462e",
   "metadata": {},
   "source": [
    "---\n",
    "### Zadanie 2\n",
    "Wykonaj projekcję dokładnego rozwiązania $\\boldsymbol{x}=[1, 0, 1, 1, 0]^T$ na podprzestrzeń kolumnową macierzy:\n",
    "\n",
    "$$\n",
    "\\boldsymbol{A}=\n",
    "\\begin{bmatrix}\n",
    "1 &  2&  2&  3& 1\\\\ \n",
    "2 &  4&  4&  6& 2\\\\ \n",
    "3 &  6&  6&  9& 6\\\\ \n",
    "1 &  2&  4&  5& 3\n",
    "\\end{bmatrix}\n",
    "$$\n",
    "\n",
    "Znajdź rozwiązanie przybliżone dla układu równań $\\boldsymbol{AX =b}$ dla danej macierzy $\\boldsymbol{A}$ i wektora $\\boldsymbol{b}$. Zmień wartość elementu $a_{21}$ z 2 na 0, a następnie powtórz krok estymacji. Wyjaśnij różnicę. Wyznacz błędy rozwiązania i residualny. Który algorytm pozwala uzyskać najlepsze rozwiązanie i dlaczego? Dla jakiej metryki funkcji celu uzyskuje się najlepsze rozwiązanie?"
   ]
  },
  {
   "cell_type": "code",
   "execution_count": 5,
   "id": "77e3341c",
   "metadata": {
    "scrolled": true
   },
   "outputs": [
    {
     "name": "stdout",
     "output_type": "stream",
     "text": [
      "Uzyskane wyniki w 2 iteracjach, dla a21 = 2 :\n",
      "[[0.182]\n",
      " [0.364]\n",
      " [0.909]\n",
      " [1.091]\n",
      " [0.   ]]\n",
      "Błąd rozwiązania: 0.9045340343267222\n",
      "Błąd residualny: 4.627303774171212e-05\n",
      "Wskaźnik uwarunkowania macierzy: 2.0770692115952788e+16\n",
      "\n",
      "Uzyskane wyniki w 2 iteracjach, dla a21 = 0 :\n",
      "[[1.]\n",
      " [0.]\n",
      " [1.]\n",
      " [1.]\n",
      " [0.]]\n",
      "Błąd rozwiązania: 0.0002591954789408494\n",
      "Błąd residualny: 0.00016910846532587783\n",
      "Wskaźnik uwarunkowania macierzy: 28.47897675383624\n"
     ]
    }
   ],
   "source": [
    "A = np.array([[1,2,2,3,1],\n",
    "              [2,4,4,6,2],\n",
    "              [3,6,6,9,6],\n",
    "              [1,2,4,5,3]])\n",
    "x = np.array([1,0,1,1,0]).reshape(5,1)\n",
    "b = A@x\n",
    "\n",
    "# Wyniki dla a21 = 2\n",
    "x_ls, iter_ = FOCUSS_THRESHOLD(A,b)\n",
    "print(f'Uzyskane wyniki w {iter_} iteracjach, dla a21 = 2 :')\n",
    "print(x_ls.round(3))\n",
    "print(f'Błąd rozwiązania: {np.linalg.norm(x_ls-x)}')\n",
    "print(f'Błąd residualny: {np.linalg.norm(b-A@x_ls)}')\n",
    "print(f'Wskaźnik uwarunkowania macierzy: {np.linalg.cond(A)}')\n",
    "print()\n",
    "\n",
    "# Wyniki dla a21 = 0\n",
    "A[1,0]=0\n",
    "b = A@x\n",
    "x_ls, iter_ = FOCUSS_THRESHOLD(A,b)\n",
    "print(f'Uzyskane wyniki w {iter_} iteracjach, dla a21 = 0 :')\n",
    "print(x_ls.round(3))\n",
    "print(f'Błąd rozwiązania: {np.linalg.norm(x_ls-x)}')\n",
    "print(f'Błąd residualny: {np.linalg.norm(b-A@x_ls)}')\n",
    "print(f'Wskaźnik uwarunkowania macierzy: {np.linalg.cond(A)}')"
   ]
  },
  {
   "cell_type": "markdown",
   "id": "5eca3087",
   "metadata": {},
   "source": [
    "### Wnioski\n",
    "Jak można zauważyć w uzyskanych powyżej wynikach. W przypadku gdy $a_{21}=2$, rozwiązanie znacznie różni się od rozwiązania dokładnego oraz błąd rozwiązania jest duży, przy niskim błędzie residualnym. W przypadku gdy $a_{21}=0$ oba błedy są rzędu $10^{-3}$, a rozwiązanie jest bardzo bliskie rozwiązaniu dokładnego. Wynika to z faktu, iż dla wartości $a_{21}=0$ macierz jest źle uwarunkowania (duża wartość wskaźnika uwarunkowania macierzy)."
   ]
  },
  {
   "cell_type": "markdown",
   "id": "259ba138",
   "metadata": {},
   "source": [
    "--- \n",
    "### Zadanie 3 \n",
    "Wygeneruj 5 rzadkich sygnałów z dyskretnym czasem, tak aby dla każdego chwili co najwyżej 3 sygnały były niezerowe. Liczba próbek powinna być dobrana rozsądnie, ale nie mniej niż 10. Wykonaj projekcję takich sygnałów na podprzestrzeń kolumnową macierzy $\\boldsymbol{A}$, uzyskując sygnały zmieszane.\n",
    "\n",
    "$$\n",
    "\\boldsymbol{A}=\n",
    "\\begin{bmatrix}\n",
    "1 &  2&  2&  3& 1\\\\ \n",
    "0 &  4&  4&  6& 2\\\\ \n",
    "3 &  6&  6&  9& 6\\\\ \n",
    "1 &  2&  4&  5& 3\n",
    "\\end{bmatrix}\n",
    "$$\n",
    "Następnie dokonaj estymacji sygnałów oryginalnych na podstawie sygnałów zmieszanych wykorzystując algorytmy: zregularyzowany FOCUSS i zregularyzowany M-FOCUSS. Który algorytm pozwala uzyskać lepsze wyniki estymacji i dlaczego? Jak dobrać optymalną wartość\n",
    "parametru regularyzacji?"
   ]
  },
  {
   "cell_type": "code",
   "execution_count": 6,
   "id": "c7b78fc1",
   "metadata": {
    "scrolled": false
   },
   "outputs": [
    {
     "data": {
      "image/png": "[encoded data removed]",
      "text/plain": [
       "<Figure size 432x288 with 1 Axes>"
      ]
     },
     "metadata": {
      "needs_background": "light"
     },
     "output_type": "display_data"
    },
    {
     "name": "stdout",
     "output_type": "stream",
     "text": [
      "Średni błąd rozwiązania z próbek: 2.9770587250649605\n",
      "Średni błąd residualny z próbek: 14.599300743918599\n"
     ]
    },
    {
     "data": {
      "image/png": "[encoded data removed]",
      "text/plain": [
       "<Figure size 432x288 with 1 Axes>"
      ]
     },
     "metadata": {
      "needs_background": "light"
     },
     "output_type": "display_data"
    },
    {
     "name": "stdout",
     "output_type": "stream",
     "text": [
      "Średni błąd rozwiązania z próbek: 0.33984808277686135\n",
      "Średni błąd residualny z próbek: 3.468347340294669e-05\n"
     ]
    }
   ],
   "source": [
    "N = 100\n",
    "A = np.array([[1,2,2,3,1],\n",
    "              [0,4,4,6,2],\n",
    "              [3,6,6,9,6],\n",
    "              [1,2,4,5,3]])\n",
    "\n",
    "# Wygenerowanie macierzy Nx5 o rozkładzie normalnym z wyzerowanymi wartościami < 0\n",
    "X = np.maximum(0, np.random.randn(N,5)) \n",
    "X = X[np.sum(np.where(X>0,1,0), axis=1)<4] # Usunięcie wierszy gdzie liczba niezerowych syganłów > 3\n",
    "n_sample = X.shape[0] # Ilość próbek\n",
    "\n",
    "B = X@A.T # Projekcja na przestrzeń kolumnową A\n",
    "\n",
    "# Wykorzystanie metody FOCUSS\n",
    "x_focus = np.zeros((5,n_sample))\n",
    "x_focus_err_solve = list()\n",
    "x_focus_err_res = list()\n",
    "for i in range(n_sample):\n",
    "    x_focus[:,[i]] = FOCUSS(A,B[[i]].T)[0]\n",
    "    x_focus_err_solve.append(np.linalg.norm(x_focus[:,[i]]-X[[i],:]))\n",
    "    x_focus_err_res.append(np.linalg.norm(B[[i]]-A@X[[i],:].T))\n",
    "       \n",
    "plt.plot(range(n_sample),x_focus_err_solve, label='Błąd rozwiązania')\n",
    "plt.plot(range(n_sample),x_focus_err_res, label='Błąd residualny')\n",
    "plt.legend()\n",
    "plt.grid()\n",
    "plt.xlabel('n - sample')\n",
    "plt.ylabel('Error')\n",
    "plt.title('Błąd rozwiązania metoda FOCUSS')\n",
    "plt.show()\n",
    "print(f'Średni błąd rozwiązania z próbek: {np.mean(x_focus_err_solve)}')\n",
    "print(f'Średni błąd residualny z próbek: {np.mean(x_focus_err_res)}')\n",
    "\n",
    "# Rozwiązanie z wykorzystaniem MFOCUSS\n",
    "x_mfocuss = MFOCUSS(A,B.T)        \n",
    "x_mfocuss_err_solv = np.linalg.norm(x_mfocuss-X.T,axis=0)\n",
    "X_mfocuss_err_res  = np.linalg.norm(B.T-A@x_mfocuss, axis=0)\n",
    "\n",
    "plt.plot(range(n_sample), x_mfocuss_err_solv, label='Błąd rozwiązania')\n",
    "plt.plot(range(n_sample), X_mfocuss_err_res, label='Błąd residualny')\n",
    "plt.legend()\n",
    "plt.grid()\n",
    "plt.xlabel('n - sample')\n",
    "plt.ylabel('Error')\n",
    "plt.title('Błąd rozwiązania metoda MFOCUSS')\n",
    "plt.show()\n",
    "print(f'Średni błąd rozwiązania z próbek: {np.mean(x_mfocuss_err_solv)}')\n",
    "print(f'Średni błąd residualny z próbek: {np.mean(X_mfocuss_err_res)}')"
   ]
  },
  {
   "cell_type": "markdown",
   "id": "20dcb32f",
   "metadata": {},
   "source": [
    "### Wnioski\n",
    "Korzystając z zaimplementowanych metod FOCUSS oraz MFOCUSS wyznaczono rozwiązania równań. Korzystając z uzyskanych wyników, wyznaczono błąd residualny oraz błąd rozwiązania. Oba błędy przedstawiono na wykresach powyżej. Jak można zaobserwować, błędy przy wykorzystaniu MFOCUSS są znacznie mniejsze. W przypadku metody MFOCUSS aktualizacja odbywa się z wykorzystaniem wszystkich próbek naraz."
   ]
  },
  {
   "cell_type": "markdown",
   "id": "3cde6214",
   "metadata": {},
   "source": [
    "---\n",
    "### Zadanie 4\n",
    "Rozwiąż zadanie podokreślone:\n",
    "$$min_x ||\\boldsymbol{x}||_p \\; p.o. \\; \\boldsymbol{Ax=b},$$\n",
    "\n",
    "$$\n",
    "\\boldsymbol{A} = \n",
    "\\begin{bmatrix}\n",
    "2 &3  &-1  &10  &21  &44  &-9  &1  &-1 \\\\ \n",
    "1 &2  &2  &8  &15  &35  &8  &-3  &1 \\\\ \n",
    "3 &1  &1  &6  &16  &53  &-7  &2  &2 \n",
    "\\end{bmatrix} \n",
    "$$\n",
    "\n",
    "$$\n",
    "\\boldsymbol{b} =\n",
    "\\begin{bmatrix}\n",
    "118 &77  &129 \n",
    "\\end{bmatrix}^T\n",
    "$$\n",
    "$$\n",
    "p \\in [0,1]\n",
    "$$\n",
    "Porównaj wyniki dla p = 0 oraz p = 1 pod względem błędu residualnego."
   ]
  },
  {
   "cell_type": "code",
   "execution_count": 7,
   "id": "7acf47ae",
   "metadata": {},
   "outputs": [
    {
     "data": {
      "image/png": "[encoded data removed]",
      "text/plain": [
       "<Figure size 432x288 with 1 Axes>"
      ]
     },
     "metadata": {
      "needs_background": "light"
     },
     "output_type": "display_data"
    },
    {
     "name": "stdout",
     "output_type": "stream",
     "text": [
      "Dla p=0 błąd residualny 1.2991970904451686e-05, w 17 iteracjach. \n",
      "Dla p=1 błąd residualny 6.794273442758616e-06, w 2 iteracjach. \n"
     ]
    }
   ],
   "source": [
    "A = np.array([[2,3,-1,10,21,44,-9,1,-1],\n",
    "              [1,2,2,8,15,35,8,-3,1],\n",
    "              [3,1,1,6,16,53,-7,2,2]])\n",
    "b = np.array([[118],\n",
    "             [77],\n",
    "             [129]])\n",
    "\n",
    "iterations = range(1,20) # Zakres iteracji\n",
    "x_ls_p0 = [FOCUSS(A,b,p=0, k=i, lmb=1e-4) for i in iterations] # Dla p=0\n",
    "x_ls_p1 = [FOCUSS(A,b,p=1, k=i, lmb=1e-4) for i in iterations] # Dla p=1\n",
    "\n",
    "err_res_p0 = [np.linalg.norm(b-A@x) for x in x_ls_p0] # Błąd dla p=0\n",
    "err_res_p1 = [np.linalg.norm(b-A@x) for x in x_ls_p1] # Błąd dla p=1\n",
    "\n",
    "# Wykres błędu residualnego\n",
    "plt.semilogy(iterations, err_res_p0, color='c', label='p=0')\n",
    "plt.semilogy(iterations, err_res_p0, 'o', color='c')\n",
    "plt.semilogy(iterations, err_res_p1, color='m', label='p=1')\n",
    "plt.semilogy(iterations, err_res_p1, '*', color='m')\n",
    "plt.title(\"Błąd residualny rozwiązania, \"+r'$\\lambda =0.0001$')\n",
    "plt.xlabel(\"Iteracja\")\n",
    "plt.ylabel(\"Error\")\n",
    "plt.legend()\n",
    "plt.grid()\n",
    "plt.show()\n",
    "\n",
    "# Implementacja z wartością graniczną błędu\n",
    "variants = [0, 1] # Warianty p\n",
    "x_ls = [FOCUSS_THRESHOLD(A, b, p=v) for v in variants]\n",
    "err_res = [np.linalg.norm(b-A@x[0]) for x in x_ls]\n",
    "for i in range(len(err_res)):\n",
    "    print(f'Dla p={i} błąd residualny {err_res[i]}, w {x_ls[i][1]} iteracjach. ')"
   ]
  },
  {
   "cell_type": "markdown",
   "id": "79c14e7d",
   "metadata": {},
   "source": [
    "### Wnioski\n",
    "Porównano wyniki błędu residualnego dla algorytmy FOCUSS dla współczynnika p=0 oraz p=1. Dla wartości p=0 błąd residualny bliski poziomowi poziomu $10^{-6}$ osiągany jest w zdecydowanie większej ilości iteracji. Na wykresie przedstawiono bład residualny dla obu wartości, w dziedzinie ilości iteracji. "
   ]
  }
 ],
 "metadata": {
  "kernelspec": {
   "display_name": "Python 3 (ipykernel)",
   "language": "python",
   "name": "python3"
  },
  "language_info": {
   "codemirror_mode": {
    "name": "ipython",
    "version": 3
   },
   "file_extension": ".py",
   "mimetype": "text/x-python",
   "name": "python",
   "nbconvert_exporter": "python",
   "pygments_lexer": "ipython3",
   "version": "3.8.10"
  }
 },
 "nbformat": 4,
 "nbformat_minor": 5
}
