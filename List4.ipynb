{
 "cells": [
  {
   "cell_type": "markdown",
   "id": "907c4f9f",
   "metadata": {},
   "source": [
    "<h1><center>Metody numeryczne i optymalizacja</center></h1>\n",
    "\n",
    "<h3><center>Lista 4</center></h3>\n",
    "<h3><center>LINIOWE ZADANIA PODOKREŚLONE</center></h3>\n",
    "\n",
    "\n",
    "\n",
    "<h6><center>Antoni Bezdzietny 249327</center></h6>\n",
    "\n",
    "<h6><center>Paweł Krysa 249171</center></h6>\n",
    "\n",
    "<h6><center>--.04.2022</center></h6>"
   ]
  },
  {
   "cell_type": "code",
   "execution_count": 1,
   "id": "ba49247e",
   "metadata": {},
   "outputs": [],
   "source": [
    "import numpy as np\n",
    "import matplotlib.pyplot as plt"
   ]
  },
  {
   "cell_type": "markdown",
   "id": "266e3a6b",
   "metadata": {},
   "source": [
    "#### Problem rozwiązania rzadkiego \n",
    "---\n",
    "Minimalizacja w zadaniach podokreślonych:\n",
    "$$ min_x \\{ ||\\boldsymbol{Ax-b}||^2_2 + \\gamma E^{(p)}(\\boldsymbol{x})  \\} $$\n",
    "\n",
    "Miara różnorodności Lp:\n",
    "$$ E^{(p)}(\\boldsymbol{x}) = sgn(p) \\sum^N_{j=1} |x_j|^p \\quad p \\leq 1$$"
   ]
  },
  {
   "cell_type": "code",
   "execution_count": 12,
   "id": "78b1b8ce",
   "metadata": {},
   "outputs": [],
   "source": [
    "def FOCUSS(A,b,p=0.5, k=20, lmb = 1e-4):\n",
    "    x = np.random.rand(A.shape[1]).reshape(A.shape[1],1)\n",
    "    for _ in range(k):\n",
    "        W = np.power(np.diag(np.power(np.abs(x[:,0]), (1-p)/2)), 2)\n",
    "        x = W@A.T@np.linalg.inv(A@W@A.T+lmb*np.eye(A.shape[0]))@b\n",
    "    return x  \n",
    "\n",
    "def FOCUSS_EPS(A,b,p=1, lmb=1e-4, eps=1e-4):\n",
    "    x = np.random.rand(A.shape[1]).reshape(A.shape[1],1)\n",
    "    x_b = x\n",
    "    error = 1\n",
    "    iter_count = 0 \n",
    "    while error > eps:\n",
    "        W = np.power(np.diag(np.power(np.abs(x[:,0]), (1-p)/2)), 2)\n",
    "        x = W@A.T@np.linalg.inv(A@W@A.T+lmb*np.eye(A.shape[0]))@b\n",
    "        error = np.sum(np.abs(x-x_b))\n",
    "        x_b = np.copy(x)\n",
    "        iter_count+=1\n",
    "    return x, iter_count"
   ]
  },
  {
   "cell_type": "markdown",
   "id": "33fc6c9c",
   "metadata": {},
   "source": [
    "---\n",
    "### Zadanie 1\n",
    "Znajdź liczby a, b, c, dla których poniższy układ równań nie jest sprzeczny. Przyspełnieniu warunku niesprzeczności, znajdź zbiór wszystkich rozwiązań (w funkcji parametrów a, b oraz c):\n",
    "\n",
    "$$ \n",
    "\\left\\{\\begin{matrix}\n",
    " x & +3y & +z & = a\\\\ \n",
    "-x & +2y & +z & =b\\\\ \n",
    " 3x & +7y & -z & =c\n",
    "\\end{matrix}\\right.\n",
    "$$\n",
    "\n",
    "Następnie, wyznacz parametry a, b, c, dla których:\n",
    "$$(a) x = 0, y = 3, z = 1$$\n",
    "$$(b) x = 0, y = 0, z = 1$$\n",
    "$$(c) x = -2, y= 1, z = 0$$\n",
    "Dla wyznaczonych parametrów a, b, c, znajdź estymowane rozwiązanie przy pomocy zregularyzowanego algorytmu FOCUSS."
   ]
  },
  {
   "cell_type": "code",
   "execution_count": 35,
   "id": "363d8012",
   "metadata": {},
   "outputs": [
    {
     "data": {
      "text/plain": [
       "array([[0.],\n",
       "       [3.],\n",
       "       [1.]])"
      ]
     },
     "execution_count": 35,
     "metadata": {},
     "output_type": "execute_result"
    }
   ],
   "source": [
    "A = np.array([[1,3,1],\n",
    "              [-1,2,1],\n",
    "              [3,7,-1]])\n",
    "x = np.array([0,3,1]).reshape(3,1)\n",
    "b = A@x\n",
    "\n",
    "x_ls, iter_ = FOCUSS_EPS(A,b)\n",
    "x_ls.round(3)"
   ]
  },
  {
   "cell_type": "markdown",
   "id": "1a5c462e",
   "metadata": {},
   "source": [
    "---\n",
    "### Zadanie 2\n",
    "Wykonaj projekcję dokładnego rozwiązania $\\boldsymbol{x}=[1, 0, 1, 1, 0]^T$ na podprzestrzeń kolumnową macierzy:\n",
    "\n",
    "$$\n",
    "\\boldsymbol{A}=\n",
    "\\begin{bmatrix}\n",
    "1 &  2&  2&  3& 1\\\\ \n",
    "2 &  4&  4&  6& 2\\\\ \n",
    "3 &  6&  6&  9& 6\\\\ \n",
    "1 &  2&  4&  5& 3\n",
    "\\end{bmatrix}\n",
    "$$\n",
    "\n",
    "Znajdź rozwiązanie przybliżone dla układu równań $\\boldsymbol{AX =b}$ dla danej macierzy $\\boldsymbol{A}$ i wektora $\\boldsymbol{b}$. Zmień wartość elementu $a_{21}$ z 2 na 0, a następnie powtórz krok estymacji. Wyjaśnij różnicę. Wyznacz błędy rozwiązania i residualny. Który algorytm pozwala uzyskać najlepsze rozwiązanie i dlaczego? Dla jakiej metryki funkcji celu uzyskuje się najlepsze rozwiązanie?"
   ]
  },
  {
   "cell_type": "markdown",
   "id": "259ba138",
   "metadata": {},
   "source": [
    "--- \n",
    "### Zadanie 3 \n",
    "Wygeneruj 5 rzadkich sygnałów z dyskretnym czasem, tak aby dla każdego chwili co najwyżej 3 sygnały były niezerowe. Liczba próbek powinna być dobrana rozsądnie, ale nie mniej niż 10. Wykonaj projekcję takich sygnałów na podprzestrzeń kolumnową macierzy $\\boldsymbol{A}$, uzyskując sygnały zmieszane.\n",
    "\n",
    "$$\n",
    "\\boldsymbol{A}=\n",
    "\\begin{bmatrix}\n",
    "1 &  2&  2&  3& 1\\\\ \n",
    "0 &  4&  4&  6& 2\\\\ \n",
    "3 &  6&  6&  9& 6\\\\ \n",
    "1 &  2&  4&  5& 3\n",
    "\\end{bmatrix}\n",
    "$$\n",
    "Następnie dokonaj estymacji sygnałów oryginalnych na podstawie sygnałów zmieszanych wy-\n",
    "korzystując algorytmy: zregularyzowany FOCUSS i zregularyzowany M-FOCUSS. Który al-\n",
    "gorytm pozwala uzyskać lepsze wyniki estymacji i dlaczego? Jak dobrać optymalną wartość\n",
    "parametru regularyzacji?"
   ]
  },
  {
   "cell_type": "markdown",
   "id": "3cde6214",
   "metadata": {},
   "source": [
    "---\n",
    "### Zadanie 4\n",
    "Rozwiąż zadanie podokreślone:\n",
    "$$min_x ||\\boldsymbol{x}||_p \\; p.o. \\; \\boldsymbol{Ax=b},$$\n",
    "\n",
    "$$\n",
    "\\boldsymbol{A} = \n",
    "\\begin{bmatrix}\n",
    "2 &3  &-1  &10  &21  &44  &-9  &1  &-1 \\\\ \n",
    "1 &2  &2  &8  &15  &35  &8  &-3  &1 \\\\ \n",
    "3 &1  &1  &6  &16  &53  &-7  &2  &2 \n",
    "\\end{bmatrix} \n",
    "$$\n",
    "\n",
    "$$\n",
    "\\boldsymbol{b} =\n",
    "\\begin{bmatrix}\n",
    "118 &77  &129 \n",
    "\\end{bmatrix}^T\n",
    "$$\n",
    "$$\n",
    "p \\in [0,1]\n",
    "$$\n",
    "Porównaj wyniki dla p = 0 oraz p = 1 pod względem błędu residualnego."
   ]
  },
  {
   "cell_type": "code",
   "execution_count": 30,
   "id": "7acf47ae",
   "metadata": {},
   "outputs": [
    {
     "data": {
      "image/png": "[encoded data removed]",
      "text/plain": [
       "<Figure size 432x288 with 1 Axes>"
      ]
     },
     "metadata": {
      "needs_background": "light"
     },
     "output_type": "display_data"
    }
   ],
   "source": [
    "A = np.array([[2,3,-1,10,21,44,-9,1,-1],\n",
    "              [1,2,2,8,15,35,8,-3,1],\n",
    "              [3,1,1,6,16,53,-7,2,2]])\n",
    "b = np.array([[118],\n",
    "             [77],\n",
    "             [129]])\n",
    "\n",
    "iterations = range(1,20) # Zakres iteracji\n",
    "x_ls_p0 = [FOCUSS(A,b,p=0, k=i, lmb=1e-4) for i in iterations] # Dla p=0\n",
    "x_ls_p1 = [FOCUSS(A,b,p=1, k=i, lmb=1e-4) for i in iterations] # Dla p=1\n",
    "\n",
    "err_res_p0 = [np.linalg.norm(b-A@x) for x in x_ls_p0] # Błąd dla p=0\n",
    "err_res_p1 = [np.linalg.norm(b-A@x) for x in x_ls_p1] # Błąd dla p=1\n",
    "\n",
    "# Wykres błędu residualnego\n",
    "plt.plot(iterations, err_res_p0, color='c', label='p=0')\n",
    "plt.plot(iterations, err_res_p0, 'o', color='c')\n",
    "plt.plot(iterations, err_res_p1, color='m', label='p=1')\n",
    "plt.plot(iterations, err_res_p1, '*', color='m')\n",
    "plt.title(\"Błąd residualny rozwiązania, \"+r'$\\lambda =1$')\n",
    "plt.xlabel(\"Iteracja\")\n",
    "plt.ylabel(\"Error\")\n",
    "plt.legend()\n",
    "plt.grid()\n",
    "plt.show()"
   ]
  },
  {
   "cell_type": "code",
   "execution_count": 29,
   "id": "34acf6b8",
   "metadata": {},
   "outputs": [
    {
     "name": "stdout",
     "output_type": "stream",
     "text": [
      "Dla p=0 błąd residualny 1.2991993782185556e-05, w 17 iteracjach. \n",
      "Dla p=1 błąd residualny 6.794273442758616e-06, w 2 iteracjach. \n"
     ]
    }
   ],
   "source": [
    "# Implementacja z wartością graniczną błędu\n",
    "variants = [0, 1] # Warianty p\n",
    "x_ls = [FOCUSS_EPS(A, b, p=v) for v in variants]\n",
    "err_res = [np.linalg.norm(b-A@x[0]) for x in x_ls]\n",
    "for i in range(len(err_res)):\n",
    "    print(f'Dla p={i} błąd residualny {err_res[i]}, w {x_ls[i][1]} iteracjach. ')"
   ]
  },
  {
   "cell_type": "code",
   "execution_count": null,
   "id": "765070cb",
   "metadata": {},
   "outputs": [],
   "source": []
  }
 ],
 "metadata": {
  "kernelspec": {
   "display_name": "Python 3 (ipykernel)",
   "language": "python",
   "name": "python3"
  },
  "language_info": {
   "codemirror_mode": {
    "name": "ipython",
    "version": 3
   },
   "file_extension": ".py",
   "mimetype": "text/x-python",
   "name": "python",
   "nbconvert_exporter": "python",
   "pygments_lexer": "ipython3",
   "version": "3.8.10"
  }
 },
 "nbformat": 4,
 "nbformat_minor": 5
}
