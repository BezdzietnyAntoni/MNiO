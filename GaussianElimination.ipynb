{
 "cells": [
  {
   "cell_type": "code",
   "execution_count": 1,
   "id": "da27d1fd",
   "metadata": {},
   "outputs": [],
   "source": [
    "# Skrypt realizujący zadania z Listy 1 MNiO [L]\n",
    "# METODY BEZPOŚREDNIE DLA ROZWIĄZYWANIA UKŁADÓW RÓWNAŃ LINIOWYCH\n",
    "\n",
    "# Library:\n",
    "# jupyterlab           3.3.1 \n",
    "# numpy                1.22.3 \n",
    "# sympy                1.10\n",
    "# Created by Antoni Bezdzietny 249327\n",
    "\n",
    "import numpy as np  # Library for mathematical operation\n",
    "import sympy as sy  # Library for printing matrix equation"
   ]
  },
  {
   "cell_type": "code",
   "execution_count": 2,
   "id": "99a71cd2",
   "metadata": {},
   "outputs": [
    {
     "name": "stdout",
     "output_type": "stream",
     "text": [
      "Equation to solve:\n"
     ]
    },
    {
     "data": {
      "text/latex": [
       "$\\displaystyle \\left[\\begin{matrix}2.0 & -1.0 & 0 & 0\\\\-1.0 & 2.0 & -1.0 & 0\\\\0 & -1.0 & 2.0 & -1.0\\\\0 & 0 & -1.0 & 2.0\\end{matrix}\\right] \\left[\\begin{matrix}u\\\\v\\\\w\\\\z\\end{matrix}\\right] = \\left[\\begin{matrix}0\\\\0\\\\0\\\\5.0\\end{matrix}\\right]$"
      ],
      "text/plain": [
       "Eq(Matrix([\n",
       "[ 2.0, -1.0,    0,    0],\n",
       "[-1.0,  2.0, -1.0,    0],\n",
       "[   0, -1.0,  2.0, -1.0],\n",
       "[   0,    0, -1.0,  2.0]])*Matrix([\n",
       "[u],\n",
       "[v],\n",
       "[w],\n",
       "[z]]), Matrix([\n",
       "[  0],\n",
       "[  0],\n",
       "[  0],\n",
       "[5.0]]))"
      ]
     },
     "execution_count": 2,
     "metadata": {},
     "output_type": "execute_result"
    }
   ],
   "source": [
    "# Equations to solve\n",
    "#  2u -  v         = 0\n",
    "# - u + 2v - w     = 0\n",
    "#     -  v +2w - z = 0\n",
    "#          - w +2z = 5\n",
    "\n",
    "# Ax=b  ,where:\n",
    "# A - coefficient matrix\n",
    "# x - unknowns / solution vector\n",
    "# b - constant vector\n",
    "\n",
    "A = np.matrix([ [2., -1., 0., 0.], [-1., 2., -1., 0.], [0., -1., 2., -1.], [0., 0., -1., 2.] ]) \n",
    "b = np.matrix ([ [0.], [0.], [0.], [5.] ])\n",
    "s = np.array( [ ['u'], ['v'], ['w'], ['z'] ] )\n",
    "\n",
    "print(\"Equation to solve:\")\n",
    "A_sy  = sy.Matrix( A ) \n",
    "s_sy = sy.Matrix( s )\n",
    "b_sy  = sy.Matrix( b )\n",
    "sy.Eq( sy.MatMul(A_sy, s_sy, evaluate=False), b_sy, evaluate=False ) "
   ]
  },
  {
   "cell_type": "code",
   "execution_count": 3,
   "id": "c5a056a2",
   "metadata": {},
   "outputs": [],
   "source": [
    "def replaceRows( matrix, row1, row2 ):\n",
    "    \"\"\"Function replace two rows\"\"\"\n",
    "    temp_row        = matrix[row1, :].copy()  # Create temporary copy\n",
    "    matrix[row1, :] = matrix[row2, :]         # Rewriting rows\n",
    "    matrix[row2, :] = temp_row                # Rewriting temporary rows\n",
    "    return matrix"
   ]
  },
  {
   "cell_type": "code",
   "execution_count": 4,
   "id": "172dffa2",
   "metadata": {},
   "outputs": [],
   "source": [
    "def switchPivots( matrix, row, col ):\n",
    "    \"\"\"Function replace rows for the bigest value in column on position (row,col) \"\"\"\n",
    "    column      = matrix[:, col]       # Get column \n",
    "    max_val_row = np.argmax( column )  # Position on max value in column\n",
    "    if matrix.item( row, col ) != column.item( max_val_row, 0 ):  # If position of max value is not on on (row,col)\n",
    "        matrix = replaceRows( matrix, row, max_val_row )          # Replace rows\n",
    "    return matrix"
   ]
  },
  {
   "cell_type": "code",
   "execution_count": 5,
   "id": "0adf5a36",
   "metadata": {},
   "outputs": [],
   "source": [
    "def zeroingColumnBelow( matrix, row, col ):\n",
    "    \"\"\"Function zeroing column below position (row,col)\"\"\"\n",
    "    rows, cols = np.shape(matrix)    # Matrix size rows\n",
    "    for i in range(row+1, rows):     # For all rows below row\n",
    "        multiplier = -( matrix.item( i, col )/matrix.item( row, col ) ) # Multiplier to zeroing\n",
    "        matrix[i, :] = matrix[i, :]+matrix[row, :]*multiplier           # Zeroing\n",
    "    return matrix"
   ]
  },
  {
   "cell_type": "code",
   "execution_count": 6,
   "id": "fd824c5f",
   "metadata": {},
   "outputs": [],
   "source": [
    "def backwardSubstitution( matrix ):\n",
    "    \"\"\"Function realize backward substitution for augmented matrix\"\"\"\n",
    "    rows, cols = np.shape( matrix )   # Get augmented matrix size\n",
    "    x = np.zeros( (rows, 1) )         # Create solve array\n",
    "    \n",
    "    for i in range(rows-1,-1,-1):     # For all variables from the last one\n",
    "        solution = matrix.item(i,4)   # Value under equal     \n",
    "    \n",
    "        for j in range(i+1,rows):     # For all know value of variable\n",
    "            solution = solution - (matrix.item(i,j) * x.item(j,0)) # Removal knowing variables\n",
    "    \n",
    "        solution = solution / Ab.item(i,i)  # Normalized solution\n",
    "        x[i,0] = solution                   # Rewrite solution to vector\n",
    "    return x"
   ]
  },
  {
   "cell_type": "code",
   "execution_count": 7,
   "id": "336408ec",
   "metadata": {},
   "outputs": [],
   "source": [
    "# Algorithm steps\n",
    "# 1.Prepare variables\n",
    "# 2.Gaussian Elimination\n",
    "# 3.Backward Substitution\n",
    "\n",
    "# Prepare variables\n",
    "Ab = np.append( A, b, axis=1 )  # Augmented matrix \n",
    "rows, cols = np.shape( Ab )     # Matrix size: m-row, n-column\n",
    "\n",
    "# Gaussian elimination\n",
    "for i in range(rows):\n",
    "    Ab = switchPivots( Ab, i, i )       # Switch rows for the bigest pivots\n",
    "    Ab = zeroingColumnBelow( Ab, i, i ) # Zeroing all value under pivots\n",
    "    \n",
    "# Backward Substitution\n",
    "x = backwardSubstitution(Ab)"
   ]
  },
  {
   "cell_type": "code",
   "execution_count": 8,
   "id": "92396bc7",
   "metadata": {},
   "outputs": [
    {
     "name": "stdout",
     "output_type": "stream",
     "text": [
      "Equation to solve:\n"
     ]
    },
    {
     "data": {
      "text/latex": [
       "$\\displaystyle \\left[\\begin{matrix}2.0 & -1.0 & 0 & 0\\\\-1.0 & 2.0 & -1.0 & 0\\\\0 & -1.0 & 2.0 & -1.0\\\\0 & 0 & -1.0 & 2.0\\end{matrix}\\right] \\left[\\begin{matrix}u\\\\v\\\\w\\\\z\\end{matrix}\\right] = \\left[\\begin{matrix}0\\\\0\\\\0\\\\5.0\\end{matrix}\\right]$"
      ],
      "text/plain": [
       "Eq(Matrix([\n",
       "[ 2.0, -1.0,    0,    0],\n",
       "[-1.0,  2.0, -1.0,    0],\n",
       "[   0, -1.0,  2.0, -1.0],\n",
       "[   0,    0, -1.0,  2.0]])*Matrix([\n",
       "[u],\n",
       "[v],\n",
       "[w],\n",
       "[z]]), Matrix([\n",
       "[  0],\n",
       "[  0],\n",
       "[  0],\n",
       "[5.0]]))"
      ]
     },
     "execution_count": 8,
     "metadata": {},
     "output_type": "execute_result"
    }
   ],
   "source": [
    "#Display eqation to solve\n",
    "print(\"Equation to solve:\")\n",
    "sy.Eq( sy.MatMul(A_sy, s_sy, evaluate=False), b_sy, evaluate=False )"
   ]
  },
  {
   "cell_type": "code",
   "execution_count": 9,
   "id": "77ab7740",
   "metadata": {},
   "outputs": [
    {
     "name": "stdout",
     "output_type": "stream",
     "text": [
      "Result:\n"
     ]
    },
    {
     "data": {
      "text/latex": [
       "$\\displaystyle \\left[\\begin{matrix}u\\\\v\\\\w\\\\z\\end{matrix}\\right] = \\left[\\begin{matrix}1.0\\\\2.0\\\\3.0\\\\4.0\\end{matrix}\\right]$"
      ],
      "text/plain": [
       "Eq(Matrix([\n",
       "[u],\n",
       "[v],\n",
       "[w],\n",
       "[z]]), Matrix([\n",
       "[1.0],\n",
       "[2.0],\n",
       "[3.0],\n",
       "[4.0]]))"
      ]
     },
     "execution_count": 9,
     "metadata": {},
     "output_type": "execute_result"
    }
   ],
   "source": [
    "# Display result\n",
    "x_sy = sy.Matrix( x )\n",
    "\n",
    "print(\"Result:\")\n",
    "sy.Eq( s_sy, x_sy, evaluate=False )"
   ]
  },
  {
   "cell_type": "code",
   "execution_count": null,
   "id": "08a4cf75",
   "metadata": {},
   "outputs": [],
   "source": []
  }
 ],
 "metadata": {
  "kernelspec": {
   "display_name": "Python 3 (ipykernel)",
   "language": "python",
   "name": "python3"
  },
  "language_info": {
   "codemirror_mode": {
    "name": "ipython",
    "version": 3
   },
   "file_extension": ".py",
   "mimetype": "text/x-python",
   "name": "python",
   "nbconvert_exporter": "python",
   "pygments_lexer": "ipython3",
   "version": "3.8.10"
  }
 },
 "nbformat": 4,
 "nbformat_minor": 5
}
