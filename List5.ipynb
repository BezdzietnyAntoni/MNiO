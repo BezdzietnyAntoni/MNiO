{
 "cells": [
  {
   "cell_type": "code",
   "execution_count": 1,
   "id": "1c84b39c",
   "metadata": {},
   "outputs": [],
   "source": [
    "import numpy as np"
   ]
  },
  {
   "cell_type": "code",
   "execution_count": 2,
   "id": "67817ba1",
   "metadata": {},
   "outputs": [],
   "source": [
    "def GaussSeidel(A, b, iter_=30):\n",
    "    \"\"\"\n",
    "    Implementacja metody iteracyjnej Gaussa-Sidela\n",
    "    Parameters\n",
    "    ----------\n",
    "    A : numpy.array (matrix) - equation matrix\n",
    "    b : numpy.array (vector) - unknown vector\n",
    "    \n",
    "    Returns\n",
    "    ----------\n",
    "    x : numpy.array (vector) - solve for n-th itereations\n",
    "    \"\"\"\n",
    "    x = np.zeros( (iter_, A.shape[1], 1) )\n",
    "    invS = np.linalg.inv(np.tril(A, 0))\n",
    "    T = -np.triu(A, 1)\n",
    "    \n",
    "    for i in range(iter_):\n",
    "        G = invS@T\n",
    "        c = invS@b\n",
    "        x[i] = G@x[i-1]+c\n",
    "    return x"
   ]
  },
  {
   "cell_type": "code",
   "execution_count": 25,
   "id": "bed8e1f7",
   "metadata": {},
   "outputs": [],
   "source": [
    "def Jacobi(A, b, iter_=30):\n",
    "    \"\"\"\n",
    "    Implementacja metody iteracyjnej Jacobiego\n",
    "    Parameters\n",
    "    ----------\n",
    "    A : numpy.array (matrix) - equation matrix\n",
    "    b : numpy.array (vector) - unknown vector\n",
    "    \n",
    "    Returns\n",
    "    ----------\n",
    "    x : numpy.array (vector) - solve for n-th itereations\n",
    "    \"\"\"\n",
    "    x = np.zeros( (iter_, A.shape[1], 1) )\n",
    "    invS = np.reciprocal(np.diag(A))[np.newaxis]\n",
    "    T = -A+np.diag(np.diag(A))    \n",
    "    \n",
    "    for i in range(iter_):\n",
    "        G = invS*T\n",
    "        c = invS.T*b\n",
    "        x[i] = G@x[i-1]+c\n",
    "    return x\n",
    "    \n",
    "    "
   ]
  },
  {
   "cell_type": "code",
   "execution_count": 49,
   "id": "981f000f",
   "metadata": {},
   "outputs": [],
   "source": [
    "def SuccessiveOverRelaxation(A, b, omeg_=1, iter_=30):\n",
    "    \"\"\"\n",
    "    Implementacja metody iteracyjnej Successive Over-Relaxation (SOR)\n",
    "    Parameters\n",
    "    ----------\n",
    "    A : numpy.array (matrix) - equation matrix\n",
    "    b : numpy.array (vector) - unknown vector\n",
    "    omeg_ : relaxation parametr (0,2)\n",
    "    iter_ : number of iteration\n",
    "    \n",
    "    Returns\n",
    "    ----------\n",
    "    x : numpy.array (vector) - solve for n-th itereations\n",
    "    \"\"\"\n",
    "    \n",
    "    x = np.zeros( (iter_, A.shape[1], 1) )\n",
    "    S = np.tril(A,-1) + (1/omeg_)*np.diag(np.diag(A))\n",
    "    T = -(np.triu(A,1)+ ((omeg_-1)/omeg_)*np.diag(np.diag(A)))\n",
    "    for i in range(iter_):\n",
    "        G = invS@T\n",
    "        c = invS@b\n",
    "        x[i] = G@x[i-1]+c\n",
    "    return x"
   ]
  },
  {
   "cell_type": "markdown",
   "id": "133c72cc",
   "metadata": {},
   "source": [
    "---\n",
    "## Zadanie 1\n",
    "\n",
    "$$x^{n-1} = D^{-1}b-D^{-1}Lx^{n+1}-D^{-1}Ux^{n}$$"
   ]
  },
  {
   "cell_type": "code",
   "execution_count": 50,
   "id": "26248e45",
   "metadata": {
    "scrolled": true
   },
   "outputs": [
    {
     "ename": "NameError",
     "evalue": "name 'invS' is not defined",
     "output_type": "error",
     "traceback": [
      "\u001b[0;31m---------------------------------------------------------------------------\u001b[0m",
      "\u001b[0;31mNameError\u001b[0m                                 Traceback (most recent call last)",
      "Input \u001b[0;32mIn [50]\u001b[0m, in \u001b[0;36m<cell line: 9>\u001b[0;34m()\u001b[0m\n\u001b[1;32m      5\u001b[0m b \u001b[38;5;241m=\u001b[39m np\u001b[38;5;241m.\u001b[39marray([\u001b[38;5;241m0\u001b[39m,\u001b[38;5;241m0\u001b[39m,\u001b[38;5;241m0\u001b[39m,\u001b[38;5;241m5\u001b[39m],\n\u001b[1;32m      6\u001b[0m              dtype\u001b[38;5;241m=\u001b[39mnp\u001b[38;5;241m.\u001b[39mdouble)\u001b[38;5;241m.\u001b[39mreshape(\u001b[38;5;241m4\u001b[39m,\u001b[38;5;241m1\u001b[39m)\n\u001b[1;32m      7\u001b[0m x \u001b[38;5;241m=\u001b[39m np\u001b[38;5;241m.\u001b[39mlinalg\u001b[38;5;241m.\u001b[39minv(A)\u001b[38;5;129m@b\u001b[39m\n\u001b[0;32m----> 9\u001b[0m x_pr \u001b[38;5;241m=\u001b[39m \u001b[43mSuccessiveOverRelaxation\u001b[49m\u001b[43m(\u001b[49m\u001b[43mA\u001b[49m\u001b[43m,\u001b[49m\u001b[43mb\u001b[49m\u001b[43m,\u001b[49m\u001b[43momeg_\u001b[49m\u001b[38;5;241;43m=\u001b[39;49m\u001b[38;5;241;43m0.5\u001b[39;49m\u001b[43m)\u001b[49m\n\u001b[1;32m     10\u001b[0m \u001b[38;5;28mprint\u001b[39m(x_pr)\n",
      "Input \u001b[0;32mIn [49]\u001b[0m, in \u001b[0;36mSuccessiveOverRelaxation\u001b[0;34m(A, b, omeg_, iter_)\u001b[0m\n\u001b[1;32m     18\u001b[0m T \u001b[38;5;241m=\u001b[39m \u001b[38;5;241m-\u001b[39m(np\u001b[38;5;241m.\u001b[39mtriu(A,\u001b[38;5;241m1\u001b[39m)\u001b[38;5;241m+\u001b[39m ((omeg_\u001b[38;5;241m-\u001b[39m\u001b[38;5;241m1\u001b[39m)\u001b[38;5;241m/\u001b[39momeg_)\u001b[38;5;241m*\u001b[39mnp\u001b[38;5;241m.\u001b[39mdiag(np\u001b[38;5;241m.\u001b[39mdiag(A)))\n\u001b[1;32m     19\u001b[0m \u001b[38;5;28;01mfor\u001b[39;00m i \u001b[38;5;129;01min\u001b[39;00m \u001b[38;5;28mrange\u001b[39m(iter_):\n\u001b[0;32m---> 20\u001b[0m     G \u001b[38;5;241m=\u001b[39m \u001b[43minvS\u001b[49m\u001b[38;5;129m@T\u001b[39m\n\u001b[1;32m     21\u001b[0m     c \u001b[38;5;241m=\u001b[39m invS\u001b[38;5;129m@b\u001b[39m\n\u001b[1;32m     22\u001b[0m     x[i] \u001b[38;5;241m=\u001b[39m G\u001b[38;5;129m@x\u001b[39m[i\u001b[38;5;241m-\u001b[39m\u001b[38;5;241m1\u001b[39m]\u001b[38;5;241m+\u001b[39mc\n",
      "\u001b[0;31mNameError\u001b[0m: name 'invS' is not defined"
     ]
    }
   ],
   "source": [
    "A = np.array([[2,-1,0,0],\n",
    "              [-1,2,-1,0],\n",
    "              [0,-1,2,-1],\n",
    "              [0,0,-1,2]],dtype=np.double)\n",
    "b = np.array([0,0,0,5],\n",
    "             dtype=np.double).reshape(4,1)\n",
    "x = np.linalg.inv(A)@b\n",
    "\n",
    "x_pr = SuccessiveOverRelaxation(A,b,omeg_=0.5)\n",
    "print(x_pr)\n"
   ]
  },
  {
   "cell_type": "code",
   "execution_count": null,
   "id": "85468c7e",
   "metadata": {},
   "outputs": [],
   "source": []
  }
 ],
 "metadata": {
  "kernelspec": {
   "display_name": "Python 3 (ipykernel)",
   "language": "python",
   "name": "python3"
  },
  "language_info": {
   "codemirror_mode": {
    "name": "ipython",
    "version": 3
   },
   "file_extension": ".py",
   "mimetype": "text/x-python",
   "name": "python",
   "nbconvert_exporter": "python",
   "pygments_lexer": "ipython3",
   "version": "3.8.10"
  }
 },
 "nbformat": 4,
 "nbformat_minor": 5
}
