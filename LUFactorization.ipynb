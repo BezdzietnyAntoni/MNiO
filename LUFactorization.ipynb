{
 "cells": [
  {
   "cell_type": "markdown",
   "id": "2cf4e87c",
   "metadata": {},
   "source": [
    "# LU Factorization"
   ]
  },
  {
   "cell_type": "code",
   "execution_count": 1,
   "id": "9fd3c481",
   "metadata": {},
   "outputs": [],
   "source": [
    "# Library:\n",
    "# jupyterlab           3.3.1 \n",
    "# numpy                1.22.3 \n",
    "# sympy                1.10\n",
    "\n",
    "import numpy as np  # Library for mathematical operation\n",
    "import sympy as sy  # Library for printing matrix equation"
   ]
  },
  {
   "cell_type": "markdown",
   "id": "440978b4",
   "metadata": {},
   "source": [
    "## Metoda Doolittle’a\n",
    "$$ A = LU $$\n",
    "\n",
    "$$\n",
    "{\\begin{bmatrix}a_{11}&a_{12}&\\cdots &a_{1n}\\\\a_{21}&a_{22}&\\cdots &a_{2n}\\\\\\vdots &\\vdots &\\ddots &\\vdots \\\\a_{n1}&a_{n2}&\\cdots &a_{nn}\\end{bmatrix}}={\\begin{bmatrix}1&0&\\cdots &0\\\\l_{21}&1&\\cdots &0\\\\\\vdots &\\vdots &\\ddots &0\\\\l_{n1}&l_{n2}&\\cdots &1\\end{bmatrix}}\\cdot {\\begin{bmatrix}u_{11}&u_{12}&\\cdots &u_{1n}\\\\0&u_{22}&\\cdots &u_{2n}\\\\\\vdots &\\vdots &\\ddots &\\vdots \\\\0&0&\\cdots &u_{nn}\\end{bmatrix}}\n",
    "$$\n",
    "\n",
    "$ u_{ij}=a_{ij}-\\sum _{k=1}^{i-1}l_{ik}u_{kj}$ dla $j\\in \\{i,\\ i+1,\\ldots ,\\ n\\}$\n",
    "\n",
    "$ l_{ji}={\\frac {1}{u_{ii}}}\\left(a_{ji}-\\sum _{k=1}^{i-1}l_{jk}u_{ki}\\right)$ dla $j\\in \\{i+1,\\ i+2,\\ldots ,\\ n\\}$"
   ]
  },
  {
   "cell_type": "code",
   "execution_count": 225,
   "id": "121c47b8",
   "metadata": {},
   "outputs": [],
   "source": [
    "class LUFactorization:\n",
    "    @staticmethod\n",
    "    def DollitleMethod( A ):\n",
    "        rows, cols = A.shape                      # Get matrix shape rows and cols\n",
    "        L = np.matrix(np.diag( np.ones( rows ) )) # Create matrix L (1 on diagonal)\n",
    "        U = np.matrix(np.zeros( A.shape ))        # Create zeros matrix U \n",
    "        \n",
    "        L[:, 0] = A[:, 0] / A[0,0]   # First column in L matrix is first column A / A(0,0)\n",
    "        U[0, :] = A[0, :]            # First row in U matrix is first column of A\n",
    "\n",
    "        for i in range( 1, rows ):                # For all rows in matrix\n",
    "            for j in range( i, cols):             # For all columns in i row\n",
    "                U[i,j] = A[i,j]-L[i,0:i]*U[0:i,j] # U(i,j) = A(i,j)-sum(L(i,k)*U(k,j)), where k[1,i-1]\n",
    "                \n",
    "            \n",
    "            for j in range( i+1, rows ):                   # For all rows in i column\n",
    "                L[j,i] = (A[j,i]-L[j,0:i]*U[0:i,i])/U[i,i] # L(j,i) = A(j,i)-sum(L(j,k)*U(k,i)), where k[1,i-1]\n",
    "    \n",
    "        return (L, U)"
   ]
  },
  {
   "cell_type": "code",
   "execution_count": 226,
   "id": "d9d777a2",
   "metadata": {},
   "outputs": [],
   "source": [
    "# Matrix to LU Factorization\n",
    "\n",
    "A = np.matrix( [ [1, 2, 3, 4], [-1, 1, 2, 1], [0, 2, 1, 3], [0, 0, 1, 1] ], dtype=float) \n",
    "#A = np.matrix( [ [5,3,2],[1,2,0],[3,0,4] ], dtype=float )"
   ]
  },
  {
   "cell_type": "code",
   "execution_count": 227,
   "id": "e1a1c033",
   "metadata": {},
   "outputs": [
    {
     "data": {
      "text/latex": [
       "$\\displaystyle \\left[\\begin{matrix}1.0 & 2.0 & 3.0 & 4.0\\\\-1.0 & 1.0 & 2.0 & 1.0\\\\0 & 2.0 & 1.0 & 3.0\\\\0 & 0 & 1.0 & 1.0\\end{matrix}\\right] = \\left[\\begin{matrix}1.0 & 0 & 0 & 0\\\\-1.0 & 1.0 & 0 & 0\\\\0 & 0.667 & 1.0 & 0\\\\0 & 0 & -0.429 & 1.0\\end{matrix}\\right] \\left[\\begin{matrix}1.0 & 2.0 & 3.0 & 4.0\\\\0 & 3.0 & 5.0 & 5.0\\\\0 & 0 & -2.333 & -0.333\\\\0 & 0 & 0 & 0.857\\end{matrix}\\right]$"
      ],
      "text/plain": [
       "Eq(Matrix([\n",
       "[ 1.0, 2.0, 3.0, 4.0],\n",
       "[-1.0, 1.0, 2.0, 1.0],\n",
       "[   0, 2.0, 1.0, 3.0],\n",
       "[   0,   0, 1.0, 1.0]]), Matrix([\n",
       "[ 1.0,     0,      0,   0],\n",
       "[-1.0,   1.0,      0,   0],\n",
       "[   0, 0.667,    1.0,   0],\n",
       "[   0,     0, -0.429, 1.0]])*Matrix([\n",
       "[1.0, 2.0,    3.0,    4.0],\n",
       "[  0, 3.0,    5.0,    5.0],\n",
       "[  0,   0, -2.333, -0.333],\n",
       "[  0,   0,      0,  0.857]]))"
      ]
     },
     "execution_count": 227,
     "metadata": {},
     "output_type": "execute_result"
    }
   ],
   "source": [
    "# Display result A=LU\n",
    "L, U = LUFactorization.DollitleMethod(A)\n",
    "A_sy = sy.Matrix(A)\n",
    "L_sy = sy.Matrix(L.round(3))\n",
    "U_sy = sy.Matrix(U.round(3))\n",
    "\n",
    "sy.Eq( A_sy, sy.MatMul(L_sy, U_sy, evaluate=False), evaluate=False )"
   ]
  },
  {
   "cell_type": "code",
   "execution_count": 228,
   "id": "6db1a83b",
   "metadata": {},
   "outputs": [
    {
     "data": {
      "text/latex": [
       "$\\displaystyle \\left[\\begin{matrix}1.0 & 0 & 0 & 0\\\\-1.0 & 1.0 & 0 & 0\\\\0 & 0.667 & 1.0 & 0\\\\0 & 0 & -0.429 & 1.0\\end{matrix}\\right] \\left[\\begin{matrix}1.0 & 2.0 & 3.0 & 4.0\\\\0 & 3.0 & 5.0 & 5.0\\\\0 & 0 & -2.333 & -0.333\\\\0 & 0 & 0 & 0.857\\end{matrix}\\right] = \\left[\\begin{matrix}1.0 & 2.0 & 3.0 & 4.0\\\\-1.0 & 1.0 & 2.0 & 1.0\\\\0 & 2.0 & 1.0 & 3.0\\\\0 & 0 & 1.0 & 1.0\\end{matrix}\\right]$"
      ],
      "text/plain": [
       "Eq(Matrix([\n",
       "[ 1.0,     0,      0,   0],\n",
       "[-1.0,   1.0,      0,   0],\n",
       "[   0, 0.667,    1.0,   0],\n",
       "[   0,     0, -0.429, 1.0]])*Matrix([\n",
       "[1.0, 2.0,    3.0,    4.0],\n",
       "[  0, 3.0,    5.0,    5.0],\n",
       "[  0,   0, -2.333, -0.333],\n",
       "[  0,   0,      0,  0.857]]), Matrix([\n",
       "[ 1.0, 2.0, 3.0, 4.0],\n",
       "[-1.0, 1.0, 2.0, 1.0],\n",
       "[   0, 2.0, 1.0, 3.0],\n",
       "[   0,   0, 1.0, 1.0]]))"
      ]
     },
     "execution_count": 228,
     "metadata": {},
     "output_type": "execute_result"
    }
   ],
   "source": [
    "# Reverse LU=A'\n",
    "LU = L*U\n",
    "LU_sy = sy.Matrix(LU.round(3))\n",
    "sy.Eq( sy.MatMul(L_sy, U_sy, evaluate=False), LU_sy,  evaluate=False )"
   ]
  },
  {
   "cell_type": "code",
   "execution_count": null,
   "id": "4d036890",
   "metadata": {},
   "outputs": [],
   "source": []
  }
 ],
 "metadata": {
  "kernelspec": {
   "display_name": "Python 3 (ipykernel)",
   "language": "python",
   "name": "python3"
  },
  "language_info": {
   "codemirror_mode": {
    "name": "ipython",
    "version": 3
   },
   "file_extension": ".py",
   "mimetype": "text/x-python",
   "name": "python",
   "nbconvert_exporter": "python",
   "pygments_lexer": "ipython3",
   "version": "3.8.10"
  }
 },
 "nbformat": 4,
 "nbformat_minor": 5
}
