{
 "cells": [
  {
   "cell_type": "markdown",
   "id": "894b50fb",
   "metadata": {},
   "source": [
    "# LU Factorization"
   ]
  },
  {
   "cell_type": "code",
   "execution_count": 1,
   "id": "dace1fca",
   "metadata": {},
   "outputs": [],
   "source": [
    "# Library:\n",
    "# jupyterlab           3.3.1 \n",
    "# numpy                1.22.3 \n",
    "# sympy                1.10\n",
    "\n",
    "import numpy as np  # Library for mathematical operation\n",
    "import sympy as sy  # Library for printing matrix equation"
   ]
  },
  {
   "cell_type": "markdown",
   "id": "b3fcccbe",
   "metadata": {},
   "source": [
    "## Metoda Doolittle’a\n",
    "$$ A = LU $$\n",
    "\n",
    "$$\n",
    "{\\begin{bmatrix}a_{11}&a_{12}&\\cdots &a_{1n}\\\\a_{21}&a_{22}&\\cdots &a_{2n}\\\\\\vdots &\\vdots &\\ddots &\\vdots \\\\a_{n1}&a_{n2}&\\cdots &a_{nn}\\end{bmatrix}}={\\begin{bmatrix}1&0&\\cdots &0\\\\l_{21}&1&\\cdots &0\\\\\\vdots &\\vdots &\\ddots &0\\\\l_{n1}&l_{n2}&\\cdots &1\\end{bmatrix}}\\cdot {\\begin{bmatrix}u_{11}&u_{12}&\\cdots &u_{1n}\\\\0&u_{22}&\\cdots &u_{2n}\\\\\\vdots &\\vdots &\\ddots &\\vdots \\\\0&0&\\cdots &u_{nn}\\end{bmatrix}}\n",
    "$$\n",
    "\n",
    "$ u_{ij}=a_{ij}-\\sum _{k=1}^{i-1}l_{ik}u_{kj}$ for $j\\in \\{i,\\ i+1,\\ldots ,\\ n\\}$\n",
    "\n",
    "$ l_{ji}={\\frac {1}{u_{ii}}}\\left(a_{ji}-\\sum _{k=1}^{i-1}l_{jk}u_{ki}\\right)$ for $j\\in \\{i+1,\\ i+2,\\ldots ,\\ n\\}$"
   ]
  },
  {
   "cell_type": "code",
   "execution_count": 2,
   "id": "9e388249",
   "metadata": {},
   "outputs": [],
   "source": [
    "# Class to do factorization\n",
    "class LUFactorization:\n",
    "    @staticmethod\n",
    "    def DollitleMethod( A ):\n",
    "        rows, cols = A.shape                      # Get matrix shape rows and cols\n",
    "        L = np.matrix(np.diag( np.ones( rows ) )) # Create matrix L (1 on diagonal)\n",
    "        U = np.matrix(np.zeros( A.shape ))        # Create zeros matrix U \n",
    "        \n",
    "        L[:, 0] = A[:, 0] / A[0,0]   # First column in L matrix is first column A / A(0,0)\n",
    "        U[0, :] = A[0, :]            # First row in U matrix is first column of A\n",
    "\n",
    "        for i in range( 1, rows ):                # For all rows in matrix\n",
    "            for j in range( i, cols):             # For all columns in i row\n",
    "                U[i,j] = A[i,j]-L[i,0:i]*U[0:i,j] # U(i,j) = A(i,j)-sum(L(i,k)*U(k,j)), where k[1,i-1]\n",
    "                \n",
    "            \n",
    "            for j in range( i+1, rows ):                   # For all rows in i column\n",
    "                L[j,i] = (A[j,i]-L[j,0:i]*U[0:i,i])/U[i,i] # L(j,i) = A(j,i)-sum(L(j,k)*U(k,i)), where k[1,i-1]\n",
    "    \n",
    "        return (L, U)\n"
   ]
  },
  {
   "cell_type": "markdown",
   "id": "ea8e0a10",
   "metadata": {},
   "source": [
    "## Substitution\n",
    "---\n",
    "* Forward\n",
    "\n",
    "$${\\begin{bmatrix}l_{11}&0&\\cdots &0\\\\l_{21}&l_{22}&\\cdots &0\\\\\\vdots &\\vdots &\\ddots &0\\\\l_{n1}&l_{n2}&\\cdots &l_{nn}\\end{bmatrix}}\n",
    "{{\\begin{bmatrix}\n",
    "y_{1}\\\\\n",
    "y_{2}\\\\\n",
    "\\vdots\\\\\n",
    "y_{n}\\end{bmatrix}}}=\n",
    "{{\\begin{bmatrix}\n",
    "b_{1}\\\\\n",
    "b_{2}\\\\\n",
    "\\vdots\\\\\n",
    "b_{n}\\end{bmatrix}}}$$\n",
    "\n",
    "$ y_{1} = \\frac{b_1}{l_{11}}$\n",
    "\n",
    "$ y_{i}=\\frac{ b_i-\\sum _{j=1}^{i-1}l_{ij}y_{j} } {l_{ii}}$ for $i\\in \\{2,\\ldots ,\\ n\\}$\n",
    "\n",
    "---\n",
    "* Backward\n",
    "\n",
    "$${\\begin{bmatrix}u_{11}&u_{12}&\\cdots &u_{1n}\\\\0&u_{22}&\\cdots &u_{2n}\\\\\\vdots &\\vdots &\\ddots &\\vdots \\\\0&0&\\cdots &u_{nn}\\end{bmatrix}}{{\\begin{bmatrix}\n",
    "y_{1}\\\\\n",
    "y_{2}\\\\\n",
    "\\vdots\\\\\n",
    "y_{n}\\end{bmatrix}}}=\n",
    "{{\\begin{bmatrix}\n",
    "b_{1}\\\\\n",
    "b_{2}\\\\\n",
    "\\vdots\\\\\n",
    "b_{n}\\end{bmatrix}}}$$\n",
    "\n",
    "$y_n = \\frac{b_n}{u_{nn}}$\n",
    "\n",
    "$y_i = \\frac{ b_i-\\sum _{j=i+1}^{n}u_{ij}y_{j} } {u_{ii}}$ for $i\\in \\{1,\\ldots ,\\ n-1\\}$\n"
   ]
  },
  {
   "cell_type": "code",
   "execution_count": 3,
   "id": "554d1862",
   "metadata": {},
   "outputs": [],
   "source": [
    "# Class to do substitution\n",
    "class Substitution:\n",
    "    @staticmethod\n",
    "    def Forward( L, b ):\n",
    "        rows, cols = b.shape\n",
    "        y = np.matrix(np.zeros(b.shape))\n",
    "        y[0,0] = b[0,0]/L[0,0]\n",
    "        for i in range(1, rows):\n",
    "            y[i,0] = (b[i,0]-L[i,0:i]*y[0:i,0])/L[i,i]\n",
    "        return y\n",
    "    \n",
    "    @staticmethod\n",
    "    def Backward( U, b ):\n",
    "        rows, cols = U.shape\n",
    "        y = np.matrix(np.zeros(b.shape), dtype=float)\n",
    "        y[rows-1, 0] = b[rows-1, 0]/U[rows-1, cols-1]\n",
    "        for i in range(rows-2, -1, -1):\n",
    "            y[i,0] = (b[i,0]-U[i,i+1:cols]*y[i+1:rows,0])/U[i,i]\n",
    "        return y\n",
    "        "
   ]
  },
  {
   "cell_type": "code",
   "execution_count": 22,
   "id": "76fa6d66",
   "metadata": {},
   "outputs": [],
   "source": [
    "# Matrix to LU Factorization\n",
    "\n",
    "A = np.matrix( [ [1, 2, 3, 4], [-1, 1, 2, 1], [0, 2, 1, 3], [0, 0, 1, 1] ], dtype=float) \n",
    "#A = np.matrix( [ [5,3,2],[1,2,0],[3,0,4] ], dtype=float )"
   ]
  },
  {
   "cell_type": "code",
   "execution_count": 23,
   "id": "b933af35",
   "metadata": {},
   "outputs": [
    {
     "data": {
      "text/latex": [
       "$\\displaystyle \\left[\\begin{matrix}1.0 & 2.0 & 3.0 & 4.0\\\\-1.0 & 1.0 & 2.0 & 1.0\\\\0 & 2.0 & 1.0 & 3.0\\\\0 & 0 & 1.0 & 1.0\\end{matrix}\\right] = \\left[\\begin{matrix}1.0 & 0 & 0 & 0\\\\-1.0 & 1.0 & 0 & 0\\\\0 & 0.667 & 1.0 & 0\\\\0 & 0 & -0.429 & 1.0\\end{matrix}\\right] \\left[\\begin{matrix}1.0 & 2.0 & 3.0 & 4.0\\\\0 & 3.0 & 5.0 & 5.0\\\\0 & 0 & -2.333 & -0.333\\\\0 & 0 & 0 & 0.857\\end{matrix}\\right]$"
      ],
      "text/plain": [
       "Eq(Matrix([\n",
       "[ 1.0, 2.0, 3.0, 4.0],\n",
       "[-1.0, 1.0, 2.0, 1.0],\n",
       "[   0, 2.0, 1.0, 3.0],\n",
       "[   0,   0, 1.0, 1.0]]), Matrix([\n",
       "[ 1.0,     0,      0,   0],\n",
       "[-1.0,   1.0,      0,   0],\n",
       "[   0, 0.667,    1.0,   0],\n",
       "[   0,     0, -0.429, 1.0]])*Matrix([\n",
       "[1.0, 2.0,    3.0,    4.0],\n",
       "[  0, 3.0,    5.0,    5.0],\n",
       "[  0,   0, -2.333, -0.333],\n",
       "[  0,   0,      0,  0.857]]))"
      ]
     },
     "execution_count": 23,
     "metadata": {},
     "output_type": "execute_result"
    }
   ],
   "source": [
    "# Display result\n",
    "L, U = LUFactorization.DollitleMethod(A)\n",
    "A_sy = sy.Matrix(A)\n",
    "L_sy = sy.Matrix(L.round(3))\n",
    "U_sy = sy.Matrix(U.round(3))\n",
    "\n",
    "sy.Eq( A_sy, sy.MatMul(L_sy, U_sy, evaluate=False), evaluate=False )"
   ]
  },
  {
   "cell_type": "code",
   "execution_count": 11,
   "id": "c8dd1064",
   "metadata": {},
   "outputs": [
    {
     "data": {
      "text/latex": [
       "$\\displaystyle \\left[\\begin{matrix}1.0 & 0 & 0 & 0\\\\-1.0 & 1.0 & 0 & 0\\\\0 & 0.667 & 1.0 & 0\\\\0 & 0 & -0.429 & 1.0\\end{matrix}\\right] \\left[\\begin{matrix}1.0 & 2.0 & 3.0 & 4.0\\\\0 & 3.0 & 5.0 & 5.0\\\\0 & 0 & -2.333 & -0.333\\\\0 & 0 & 0 & 0.857\\end{matrix}\\right] = \\left[\\begin{matrix}1.0 & 2.0 & 3.0 & 4.0\\\\-1.0 & 1.0 & 2.0 & 1.0\\\\0 & 2.0 & 1.0 & 3.0\\\\0 & 0 & 1.0 & 1.0\\end{matrix}\\right]$"
      ],
      "text/plain": [
       "Eq(Matrix([\n",
       "[ 1.0,     0,      0,   0],\n",
       "[-1.0,   1.0,      0,   0],\n",
       "[   0, 0.667,    1.0,   0],\n",
       "[   0,     0, -0.429, 1.0]])*Matrix([\n",
       "[1.0, 2.0,    3.0,    4.0],\n",
       "[  0, 3.0,    5.0,    5.0],\n",
       "[  0,   0, -2.333, -0.333],\n",
       "[  0,   0,      0,  0.857]]), Matrix([\n",
       "[ 1.0, 2.0, 3.0, 4.0],\n",
       "[-1.0, 1.0, 2.0, 1.0],\n",
       "[   0, 2.0, 1.0, 3.0],\n",
       "[   0,   0, 1.0, 1.0]]))"
      ]
     },
     "execution_count": 11,
     "metadata": {},
     "output_type": "execute_result"
    }
   ],
   "source": [
    "# Reverse LU=A'\n",
    "LU = L*U\n",
    "LU_sy = sy.Matrix(LU.round(3))\n",
    "sy.Eq( sy.MatMul(L_sy, U_sy, evaluate=False), LU_sy,  evaluate=False )"
   ]
  },
  {
   "cell_type": "markdown",
   "id": "cd445dfb",
   "metadata": {},
   "source": [
    "## Determinant of array\n",
    "---\n",
    "$det(A) = det(L*U) = det(L)*det(U)$\n",
    "\n",
    "For triangular matrix\n",
    "\n",
    "$ {det(L)} =l_{11}\\cdot l_{22}\\cdot \\ldots \\cdot l_{nn} $\n",
    "\n",
    "$ {det(U)} =u_{11}\\cdot u_{22}\\cdot \\ldots \\cdot u_{nn} $\n",
    "\n",
    "$det(A) = det(U)$"
   ]
  },
  {
   "cell_type": "code",
   "execution_count": 12,
   "id": "2f4b32be",
   "metadata": {},
   "outputs": [
    {
     "name": "stdout",
     "output_type": "stream",
     "text": [
      "Determinant of array det(U)=det(A)= -6.0\n",
      "Determinant of array (numpy) det(A)= -6.0\n"
     ]
    }
   ],
   "source": [
    "rows, cols = A.shape\n",
    "detU = U[0,0]\n",
    "for i in range(1, rows):\n",
    "    detU = detU*U[i,i]\n",
    "    \n",
    "detA_np = np.linalg.det(A)\n",
    "    \n",
    "print(\"Determinant of array det(U)=det(A)=\", detU)\n",
    "print(\"Determinant of array (numpy) det(A)=\", detA_np)"
   ]
  },
  {
   "cell_type": "markdown",
   "id": "590e376d",
   "metadata": {},
   "source": [
    "## Solving linear equations\n",
    "\n",
    "$\\mathbf {L} \\cdot \\mathbf {U} \\cdot \\mathbf {x} =\\mathbf {b}$\n",
    "\n",
    "so,\n",
    "\n",
    "$\\mathbf {L} \\cdot \\mathbf {z} =\\mathbf {b}$\n",
    "\n",
    "$\\mathbf {U} \\cdot \\mathbf {x} =\\mathbf {z}$"
   ]
  },
  {
   "cell_type": "code",
   "execution_count": 13,
   "id": "dd4ff64d",
   "metadata": {},
   "outputs": [
    {
     "name": "stdout",
     "output_type": "stream",
     "text": [
      "Result using Factorization\n"
     ]
    },
    {
     "data": {
      "text/latex": [
       "$\\displaystyle \\left[\\begin{matrix}x_{1}\\\\x_{2}\\\\x_{3}\\\\x_{4}\\end{matrix}\\right] = \\left[\\begin{matrix}-1.0\\\\-1.0\\\\0\\\\1.0\\end{matrix}\\right]$"
      ],
      "text/plain": [
       "Eq(Matrix([\n",
       "[x1],\n",
       "[x2],\n",
       "[x3],\n",
       "[x4]]), Matrix([\n",
       "[-1.0],\n",
       "[-1.0],\n",
       "[   0],\n",
       "[ 1.0]]))"
      ]
     },
     "execution_count": 13,
     "metadata": {},
     "output_type": "execute_result"
    }
   ],
   "source": [
    "s = np.array( [ ['x1'], ['x2'], ['x3'], ['x4'] ] )\n",
    "b = np.matrix( [[1],[1],[1],[1]] )\n",
    "\n",
    "z = Substitution.Forward(L, b)\n",
    "x = Substitution.Backward(U, z)\n",
    "\n",
    "x_sy = sy.Matrix( x.round(3) )\n",
    "s_sy = sy.Matrix( s )\n",
    "\n",
    "print(\"Result using Factorization\")\n",
    "sy.Eq( s_sy, x_sy, evaluate=False ) "
   ]
  },
  {
   "cell_type": "code",
   "execution_count": 14,
   "id": "38b1f989",
   "metadata": {},
   "outputs": [
    {
     "name": "stdout",
     "output_type": "stream",
     "text": [
      "Result using numpy\n"
     ]
    },
    {
     "data": {
      "text/latex": [
       "$\\displaystyle \\left[\\begin{matrix}x_{1}\\\\x_{2}\\\\x_{3}\\\\x_{4}\\end{matrix}\\right] = \\left[\\begin{matrix}-1.0\\\\-1.0\\\\0\\\\1.0\\end{matrix}\\right]$"
      ],
      "text/plain": [
       "Eq(Matrix([\n",
       "[x1],\n",
       "[x2],\n",
       "[x3],\n",
       "[x4]]), Matrix([\n",
       "[-1.0],\n",
       "[-1.0],\n",
       "[   0],\n",
       "[ 1.0]]))"
      ]
     },
     "execution_count": 14,
     "metadata": {},
     "output_type": "execute_result"
    }
   ],
   "source": [
    "x_n   = np.linalg.solve(A,b)               \n",
    "x_n_s = sy.Matrix( x_n.round(3) )\n",
    "print(\"Result using numpy\")\n",
    "sy.Eq( s_sy, x_n_s, evaluate=False ) "
   ]
  },
  {
   "cell_type": "code",
   "execution_count": 25,
   "id": "65810649",
   "metadata": {},
   "outputs": [
    {
     "name": "stdout",
     "output_type": "stream",
     "text": [
      "[[-0.70710678 -0.51449576  0.417957   -0.24618298]\n",
      " [ 0.70710678 -0.51449576  0.417957   -0.24618298]\n",
      " [-0.         -0.68599434 -0.62693551  0.36927447]\n",
      " [-0.         -0.          0.50751922  0.86164044]]\n",
      "[[-1.41421356 -0.70710678 -0.70710678 -2.12132034]\n",
      " [ 0.         -2.91547595 -3.25847312 -4.6304618 ]\n",
      " [ 0.          0.          1.97036873  0.71649772]\n",
      " [ 0.          0.          0.          0.73854895]]\n"
     ]
    }
   ],
   "source": [
    "Q, R = np.linalg.qr(A)\n",
    "print(Q)\n",
    "print(R)"
   ]
  },
  {
   "cell_type": "code",
   "execution_count": null,
   "id": "85220feb",
   "metadata": {},
   "outputs": [],
   "source": []
  }
 ],
 "metadata": {
  "kernelspec": {
   "display_name": "Python 3 (ipykernel)",
   "language": "python",
   "name": "python3"
  },
  "language_info": {
   "codemirror_mode": {
    "name": "ipython",
    "version": 3
   },
   "file_extension": ".py",
   "mimetype": "text/x-python",
   "name": "python",
   "nbconvert_exporter": "python",
   "pygments_lexer": "ipython3",
   "version": "3.8.10"
  }
 },
 "nbformat": 4,
 "nbformat_minor": 5
}
